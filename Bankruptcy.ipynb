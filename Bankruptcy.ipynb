{
 "cells": [
  {
   "cell_type": "markdown",
   "id": "0de3f5da",
   "metadata": {},
   "source": [
    "# Buisness Objective:\n",
    "- Create a model where the probability that a business goes bankrupt from different features."
   ]
  },
  {
   "cell_type": "markdown",
   "id": "02f8f485",
   "metadata": {},
   "source": [
    "# About Dataset:\n",
    "\n",
    "- The data file contains 7 features about 250 companies\n",
    "- The data set includes the following variables:\n",
    "1.\tindustrial_risk: 0=low risk, 0.5=medium risk, 1=high risk.\n",
    "2.\tmanagement_risk: 0=low risk, 0.5=medium risk, 1=high risk.\n",
    "3.\tfinancial flexibility: 0=low flexibility, 0.5=medium flexibility, 1=high flexibility.\n",
    "4.\tcredibility: 0=low credibility, 0.5=medium credibility, 1=high credibility.\n",
    "5.\tcompetitiveness: 0=low competitiveness, 0.5=medium competitiveness, 1=high competitiveness.\n",
    "6.\toperating_risk: 0=low risk, 0.5=medium risk, 1=high risk.\n",
    "7.\tclass: bankruptcy, non-bankruptcy (target variable).\n",
    "\n",
    "- The dataset is incoprated in one column & in one row, it requires to seperate it and create new columns as mentioned above statement & Then it need to do an Exploratory Data Analysis(EDA),Visualization,Univariate-multivariate analysis,feature scaling(if require).As it is an classfication Project, we're going to use multiple classifcation Models to check which one out of is the best for this dataset."
   ]
  },
  {
   "cell_type": "code",
   "execution_count": 1,
   "id": "d945f749",
   "metadata": {},
   "outputs": [],
   "source": [
    "import pandas as pd\n",
    "import numpy as np\n",
    "import matplotlib.pyplot as plt\n",
    "import seaborn as sns"
   ]
  },
  {
   "cell_type": "code",
   "execution_count": 2,
   "id": "aebeb3b7",
   "metadata": {},
   "outputs": [],
   "source": [
    "df = pd.read_excel('bankruptcy-prevention.xlsx')"
   ]
  },
  {
   "cell_type": "code",
   "execution_count": 236,
   "id": "39f4463e",
   "metadata": {},
   "outputs": [
    {
     "data": {
      "text/html": [
       "<div>\n",
       "<style scoped>\n",
       "    .dataframe tbody tr th:only-of-type {\n",
       "        vertical-align: middle;\n",
       "    }\n",
       "\n",
       "    .dataframe tbody tr th {\n",
       "        vertical-align: top;\n",
       "    }\n",
       "\n",
       "    .dataframe thead th {\n",
       "        text-align: right;\n",
       "    }\n",
       "</style>\n",
       "<table border=\"1\" class=\"dataframe\">\n",
       "  <thead>\n",
       "    <tr style=\"text-align: right;\">\n",
       "      <th></th>\n",
       "      <th>industrial_risk</th>\n",
       "      <th>management_risk</th>\n",
       "      <th>financial_flexibility</th>\n",
       "      <th>credibility</th>\n",
       "      <th>competitiveness</th>\n",
       "      <th>operating_risk</th>\n",
       "      <th>class</th>\n",
       "    </tr>\n",
       "  </thead>\n",
       "  <tbody>\n",
       "    <tr>\n",
       "      <th>0</th>\n",
       "      <td>0.5</td>\n",
       "      <td>1.0</td>\n",
       "      <td>0.0</td>\n",
       "      <td>0.0</td>\n",
       "      <td>0.0</td>\n",
       "      <td>0.5</td>\n",
       "      <td>bankruptcy</td>\n",
       "    </tr>\n",
       "    <tr>\n",
       "      <th>1</th>\n",
       "      <td>0.0</td>\n",
       "      <td>1.0</td>\n",
       "      <td>0.0</td>\n",
       "      <td>0.0</td>\n",
       "      <td>0.0</td>\n",
       "      <td>1.0</td>\n",
       "      <td>bankruptcy</td>\n",
       "    </tr>\n",
       "    <tr>\n",
       "      <th>2</th>\n",
       "      <td>1.0</td>\n",
       "      <td>0.0</td>\n",
       "      <td>0.0</td>\n",
       "      <td>0.0</td>\n",
       "      <td>0.0</td>\n",
       "      <td>1.0</td>\n",
       "      <td>bankruptcy</td>\n",
       "    </tr>\n",
       "    <tr>\n",
       "      <th>3</th>\n",
       "      <td>0.5</td>\n",
       "      <td>0.0</td>\n",
       "      <td>0.0</td>\n",
       "      <td>0.5</td>\n",
       "      <td>0.0</td>\n",
       "      <td>1.0</td>\n",
       "      <td>bankruptcy</td>\n",
       "    </tr>\n",
       "    <tr>\n",
       "      <th>4</th>\n",
       "      <td>1.0</td>\n",
       "      <td>1.0</td>\n",
       "      <td>0.0</td>\n",
       "      <td>0.0</td>\n",
       "      <td>0.0</td>\n",
       "      <td>1.0</td>\n",
       "      <td>bankruptcy</td>\n",
       "    </tr>\n",
       "    <tr>\n",
       "      <th>5</th>\n",
       "      <td>1.0</td>\n",
       "      <td>1.0</td>\n",
       "      <td>0.0</td>\n",
       "      <td>0.5</td>\n",
       "      <td>0.0</td>\n",
       "      <td>0.5</td>\n",
       "      <td>bankruptcy</td>\n",
       "    </tr>\n",
       "    <tr>\n",
       "      <th>6</th>\n",
       "      <td>1.0</td>\n",
       "      <td>1.0</td>\n",
       "      <td>0.0</td>\n",
       "      <td>0.0</td>\n",
       "      <td>0.0</td>\n",
       "      <td>0.0</td>\n",
       "      <td>bankruptcy</td>\n",
       "    </tr>\n",
       "    <tr>\n",
       "      <th>7</th>\n",
       "      <td>1.0</td>\n",
       "      <td>1.0</td>\n",
       "      <td>0.0</td>\n",
       "      <td>0.0</td>\n",
       "      <td>0.0</td>\n",
       "      <td>0.5</td>\n",
       "      <td>bankruptcy</td>\n",
       "    </tr>\n",
       "    <tr>\n",
       "      <th>8</th>\n",
       "      <td>1.0</td>\n",
       "      <td>1.0</td>\n",
       "      <td>0.0</td>\n",
       "      <td>0.5</td>\n",
       "      <td>0.0</td>\n",
       "      <td>0.0</td>\n",
       "      <td>bankruptcy</td>\n",
       "    </tr>\n",
       "    <tr>\n",
       "      <th>9</th>\n",
       "      <td>1.0</td>\n",
       "      <td>1.0</td>\n",
       "      <td>0.0</td>\n",
       "      <td>0.5</td>\n",
       "      <td>0.0</td>\n",
       "      <td>1.0</td>\n",
       "      <td>bankruptcy</td>\n",
       "    </tr>\n",
       "  </tbody>\n",
       "</table>\n",
       "</div>"
      ],
      "text/plain": [
       "   industrial_risk   management_risk   financial_flexibility   credibility  \\\n",
       "0              0.5               1.0                     0.0           0.0   \n",
       "1              0.0               1.0                     0.0           0.0   \n",
       "2              1.0               0.0                     0.0           0.0   \n",
       "3              0.5               0.0                     0.0           0.5   \n",
       "4              1.0               1.0                     0.0           0.0   \n",
       "5              1.0               1.0                     0.0           0.5   \n",
       "6              1.0               1.0                     0.0           0.0   \n",
       "7              1.0               1.0                     0.0           0.0   \n",
       "8              1.0               1.0                     0.0           0.5   \n",
       "9              1.0               1.0                     0.0           0.5   \n",
       "\n",
       "    competitiveness   operating_risk       class  \n",
       "0               0.0              0.5  bankruptcy  \n",
       "1               0.0              1.0  bankruptcy  \n",
       "2               0.0              1.0  bankruptcy  \n",
       "3               0.0              1.0  bankruptcy  \n",
       "4               0.0              1.0  bankruptcy  \n",
       "5               0.0              0.5  bankruptcy  \n",
       "6               0.0              0.0  bankruptcy  \n",
       "7               0.0              0.5  bankruptcy  \n",
       "8               0.0              0.0  bankruptcy  \n",
       "9               0.0              1.0  bankruptcy  "
      ]
     },
     "execution_count": 236,
     "metadata": {},
     "output_type": "execute_result"
    }
   ],
   "source": [
    "df.head(10)"
   ]
  },
  {
   "cell_type": "code",
   "execution_count": 4,
   "id": "8ab4b564",
   "metadata": {},
   "outputs": [
    {
     "data": {
      "text/html": [
       "<div>\n",
       "<style scoped>\n",
       "    .dataframe tbody tr th:only-of-type {\n",
       "        vertical-align: middle;\n",
       "    }\n",
       "\n",
       "    .dataframe tbody tr th {\n",
       "        vertical-align: top;\n",
       "    }\n",
       "\n",
       "    .dataframe thead th {\n",
       "        text-align: right;\n",
       "    }\n",
       "</style>\n",
       "<table border=\"1\" class=\"dataframe\">\n",
       "  <thead>\n",
       "    <tr style=\"text-align: right;\">\n",
       "      <th></th>\n",
       "      <th>industrial_risk</th>\n",
       "      <th>management_risk</th>\n",
       "      <th>financial_flexibility</th>\n",
       "      <th>credibility</th>\n",
       "      <th>competitiveness</th>\n",
       "      <th>operating_risk</th>\n",
       "      <th>class</th>\n",
       "    </tr>\n",
       "  </thead>\n",
       "  <tbody>\n",
       "    <tr>\n",
       "      <th>245</th>\n",
       "      <td>0.0</td>\n",
       "      <td>1.0</td>\n",
       "      <td>1.0</td>\n",
       "      <td>1.0</td>\n",
       "      <td>1.0</td>\n",
       "      <td>1.0</td>\n",
       "      <td>non-bankruptcy</td>\n",
       "    </tr>\n",
       "    <tr>\n",
       "      <th>246</th>\n",
       "      <td>1.0</td>\n",
       "      <td>1.0</td>\n",
       "      <td>0.5</td>\n",
       "      <td>1.0</td>\n",
       "      <td>1.0</td>\n",
       "      <td>0.0</td>\n",
       "      <td>non-bankruptcy</td>\n",
       "    </tr>\n",
       "    <tr>\n",
       "      <th>247</th>\n",
       "      <td>0.0</td>\n",
       "      <td>1.0</td>\n",
       "      <td>1.0</td>\n",
       "      <td>0.5</td>\n",
       "      <td>0.5</td>\n",
       "      <td>0.0</td>\n",
       "      <td>non-bankruptcy</td>\n",
       "    </tr>\n",
       "    <tr>\n",
       "      <th>248</th>\n",
       "      <td>1.0</td>\n",
       "      <td>0.0</td>\n",
       "      <td>0.5</td>\n",
       "      <td>1.0</td>\n",
       "      <td>0.5</td>\n",
       "      <td>0.0</td>\n",
       "      <td>non-bankruptcy</td>\n",
       "    </tr>\n",
       "    <tr>\n",
       "      <th>249</th>\n",
       "      <td>1.0</td>\n",
       "      <td>0.0</td>\n",
       "      <td>0.5</td>\n",
       "      <td>0.5</td>\n",
       "      <td>1.0</td>\n",
       "      <td>1.0</td>\n",
       "      <td>non-bankruptcy</td>\n",
       "    </tr>\n",
       "  </tbody>\n",
       "</table>\n",
       "</div>"
      ],
      "text/plain": [
       "     industrial_risk   management_risk   financial_flexibility   credibility  \\\n",
       "245              0.0               1.0                     1.0           1.0   \n",
       "246              1.0               1.0                     0.5           1.0   \n",
       "247              0.0               1.0                     1.0           0.5   \n",
       "248              1.0               0.0                     0.5           1.0   \n",
       "249              1.0               0.0                     0.5           0.5   \n",
       "\n",
       "      competitiveness   operating_risk           class  \n",
       "245               1.0              1.0  non-bankruptcy  \n",
       "246               1.0              0.0  non-bankruptcy  \n",
       "247               0.5              0.0  non-bankruptcy  \n",
       "248               0.5              0.0  non-bankruptcy  \n",
       "249               1.0              1.0  non-bankruptcy  "
      ]
     },
     "execution_count": 4,
     "metadata": {},
     "output_type": "execute_result"
    }
   ],
   "source": [
    "df.tail()"
   ]
  },
  {
   "cell_type": "code",
   "execution_count": 5,
   "id": "aef1c442",
   "metadata": {},
   "outputs": [
    {
     "data": {
      "text/plain": [
       "(250, 7)"
      ]
     },
     "execution_count": 5,
     "metadata": {},
     "output_type": "execute_result"
    }
   ],
   "source": [
    "df.shape"
   ]
  },
  {
   "cell_type": "code",
   "execution_count": 6,
   "id": "a0ed9790",
   "metadata": {},
   "outputs": [
    {
     "name": "stdout",
     "output_type": "stream",
     "text": [
      "<class 'pandas.core.frame.DataFrame'>\n",
      "RangeIndex: 250 entries, 0 to 249\n",
      "Data columns (total 7 columns):\n",
      " #   Column                  Non-Null Count  Dtype  \n",
      "---  ------                  --------------  -----  \n",
      " 0   industrial_risk         250 non-null    float64\n",
      " 1    management_risk        250 non-null    float64\n",
      " 2    financial_flexibility  250 non-null    float64\n",
      " 3    credibility            250 non-null    float64\n",
      " 4    competitiveness        250 non-null    float64\n",
      " 5    operating_risk         250 non-null    float64\n",
      " 6    class                  250 non-null    object \n",
      "dtypes: float64(6), object(1)\n",
      "memory usage: 13.8+ KB\n"
     ]
    }
   ],
   "source": [
    "df.info()"
   ]
  },
  {
   "cell_type": "code",
   "execution_count": 7,
   "id": "e4893e88",
   "metadata": {},
   "outputs": [
    {
     "data": {
      "text/html": [
       "<div>\n",
       "<style scoped>\n",
       "    .dataframe tbody tr th:only-of-type {\n",
       "        vertical-align: middle;\n",
       "    }\n",
       "\n",
       "    .dataframe tbody tr th {\n",
       "        vertical-align: top;\n",
       "    }\n",
       "\n",
       "    .dataframe thead th {\n",
       "        text-align: right;\n",
       "    }\n",
       "</style>\n",
       "<table border=\"1\" class=\"dataframe\">\n",
       "  <thead>\n",
       "    <tr style=\"text-align: right;\">\n",
       "      <th></th>\n",
       "      <th>industrial_risk</th>\n",
       "      <th>management_risk</th>\n",
       "      <th>financial_flexibility</th>\n",
       "      <th>credibility</th>\n",
       "      <th>competitiveness</th>\n",
       "      <th>operating_risk</th>\n",
       "    </tr>\n",
       "  </thead>\n",
       "  <tbody>\n",
       "    <tr>\n",
       "      <th>count</th>\n",
       "      <td>250.000000</td>\n",
       "      <td>250.000000</td>\n",
       "      <td>250.000000</td>\n",
       "      <td>250.000000</td>\n",
       "      <td>250.000000</td>\n",
       "      <td>250.000000</td>\n",
       "    </tr>\n",
       "    <tr>\n",
       "      <th>mean</th>\n",
       "      <td>0.518000</td>\n",
       "      <td>0.614000</td>\n",
       "      <td>0.376000</td>\n",
       "      <td>0.470000</td>\n",
       "      <td>0.476000</td>\n",
       "      <td>0.570000</td>\n",
       "    </tr>\n",
       "    <tr>\n",
       "      <th>std</th>\n",
       "      <td>0.411526</td>\n",
       "      <td>0.410705</td>\n",
       "      <td>0.401583</td>\n",
       "      <td>0.415682</td>\n",
       "      <td>0.440682</td>\n",
       "      <td>0.434575</td>\n",
       "    </tr>\n",
       "    <tr>\n",
       "      <th>min</th>\n",
       "      <td>0.000000</td>\n",
       "      <td>0.000000</td>\n",
       "      <td>0.000000</td>\n",
       "      <td>0.000000</td>\n",
       "      <td>0.000000</td>\n",
       "      <td>0.000000</td>\n",
       "    </tr>\n",
       "    <tr>\n",
       "      <th>25%</th>\n",
       "      <td>0.000000</td>\n",
       "      <td>0.500000</td>\n",
       "      <td>0.000000</td>\n",
       "      <td>0.000000</td>\n",
       "      <td>0.000000</td>\n",
       "      <td>0.000000</td>\n",
       "    </tr>\n",
       "    <tr>\n",
       "      <th>50%</th>\n",
       "      <td>0.500000</td>\n",
       "      <td>0.500000</td>\n",
       "      <td>0.500000</td>\n",
       "      <td>0.500000</td>\n",
       "      <td>0.500000</td>\n",
       "      <td>0.500000</td>\n",
       "    </tr>\n",
       "    <tr>\n",
       "      <th>75%</th>\n",
       "      <td>1.000000</td>\n",
       "      <td>1.000000</td>\n",
       "      <td>0.500000</td>\n",
       "      <td>1.000000</td>\n",
       "      <td>1.000000</td>\n",
       "      <td>1.000000</td>\n",
       "    </tr>\n",
       "    <tr>\n",
       "      <th>max</th>\n",
       "      <td>1.000000</td>\n",
       "      <td>1.000000</td>\n",
       "      <td>1.000000</td>\n",
       "      <td>1.000000</td>\n",
       "      <td>1.000000</td>\n",
       "      <td>1.000000</td>\n",
       "    </tr>\n",
       "  </tbody>\n",
       "</table>\n",
       "</div>"
      ],
      "text/plain": [
       "       industrial_risk   management_risk   financial_flexibility  \\\n",
       "count       250.000000        250.000000              250.000000   \n",
       "mean          0.518000          0.614000                0.376000   \n",
       "std           0.411526          0.410705                0.401583   \n",
       "min           0.000000          0.000000                0.000000   \n",
       "25%           0.000000          0.500000                0.000000   \n",
       "50%           0.500000          0.500000                0.500000   \n",
       "75%           1.000000          1.000000                0.500000   \n",
       "max           1.000000          1.000000                1.000000   \n",
       "\n",
       "        credibility   competitiveness   operating_risk  \n",
       "count    250.000000        250.000000       250.000000  \n",
       "mean       0.470000          0.476000         0.570000  \n",
       "std        0.415682          0.440682         0.434575  \n",
       "min        0.000000          0.000000         0.000000  \n",
       "25%        0.000000          0.000000         0.000000  \n",
       "50%        0.500000          0.500000         0.500000  \n",
       "75%        1.000000          1.000000         1.000000  \n",
       "max        1.000000          1.000000         1.000000  "
      ]
     },
     "execution_count": 7,
     "metadata": {},
     "output_type": "execute_result"
    }
   ],
   "source": [
    "df.describe()"
   ]
  },
  {
   "cell_type": "code",
   "execution_count": 8,
   "id": "aa3c9e56",
   "metadata": {},
   "outputs": [
    {
     "data": {
      "text/html": [
       "<div>\n",
       "<style scoped>\n",
       "    .dataframe tbody tr th:only-of-type {\n",
       "        vertical-align: middle;\n",
       "    }\n",
       "\n",
       "    .dataframe tbody tr th {\n",
       "        vertical-align: top;\n",
       "    }\n",
       "\n",
       "    .dataframe thead th {\n",
       "        text-align: right;\n",
       "    }\n",
       "</style>\n",
       "<table border=\"1\" class=\"dataframe\">\n",
       "  <thead>\n",
       "    <tr style=\"text-align: right;\">\n",
       "      <th></th>\n",
       "      <th>industrial_risk</th>\n",
       "      <th>management_risk</th>\n",
       "      <th>financial_flexibility</th>\n",
       "      <th>credibility</th>\n",
       "      <th>competitiveness</th>\n",
       "      <th>operating_risk</th>\n",
       "      <th>class</th>\n",
       "    </tr>\n",
       "  </thead>\n",
       "  <tbody>\n",
       "    <tr>\n",
       "      <th>0</th>\n",
       "      <td>False</td>\n",
       "      <td>False</td>\n",
       "      <td>False</td>\n",
       "      <td>False</td>\n",
       "      <td>False</td>\n",
       "      <td>False</td>\n",
       "      <td>False</td>\n",
       "    </tr>\n",
       "    <tr>\n",
       "      <th>1</th>\n",
       "      <td>False</td>\n",
       "      <td>False</td>\n",
       "      <td>False</td>\n",
       "      <td>False</td>\n",
       "      <td>False</td>\n",
       "      <td>False</td>\n",
       "      <td>False</td>\n",
       "    </tr>\n",
       "    <tr>\n",
       "      <th>2</th>\n",
       "      <td>False</td>\n",
       "      <td>False</td>\n",
       "      <td>False</td>\n",
       "      <td>False</td>\n",
       "      <td>False</td>\n",
       "      <td>False</td>\n",
       "      <td>False</td>\n",
       "    </tr>\n",
       "    <tr>\n",
       "      <th>3</th>\n",
       "      <td>False</td>\n",
       "      <td>False</td>\n",
       "      <td>False</td>\n",
       "      <td>False</td>\n",
       "      <td>False</td>\n",
       "      <td>False</td>\n",
       "      <td>False</td>\n",
       "    </tr>\n",
       "    <tr>\n",
       "      <th>4</th>\n",
       "      <td>False</td>\n",
       "      <td>False</td>\n",
       "      <td>False</td>\n",
       "      <td>False</td>\n",
       "      <td>False</td>\n",
       "      <td>False</td>\n",
       "      <td>False</td>\n",
       "    </tr>\n",
       "    <tr>\n",
       "      <th>...</th>\n",
       "      <td>...</td>\n",
       "      <td>...</td>\n",
       "      <td>...</td>\n",
       "      <td>...</td>\n",
       "      <td>...</td>\n",
       "      <td>...</td>\n",
       "      <td>...</td>\n",
       "    </tr>\n",
       "    <tr>\n",
       "      <th>245</th>\n",
       "      <td>False</td>\n",
       "      <td>False</td>\n",
       "      <td>False</td>\n",
       "      <td>False</td>\n",
       "      <td>False</td>\n",
       "      <td>False</td>\n",
       "      <td>False</td>\n",
       "    </tr>\n",
       "    <tr>\n",
       "      <th>246</th>\n",
       "      <td>False</td>\n",
       "      <td>False</td>\n",
       "      <td>False</td>\n",
       "      <td>False</td>\n",
       "      <td>False</td>\n",
       "      <td>False</td>\n",
       "      <td>False</td>\n",
       "    </tr>\n",
       "    <tr>\n",
       "      <th>247</th>\n",
       "      <td>False</td>\n",
       "      <td>False</td>\n",
       "      <td>False</td>\n",
       "      <td>False</td>\n",
       "      <td>False</td>\n",
       "      <td>False</td>\n",
       "      <td>False</td>\n",
       "    </tr>\n",
       "    <tr>\n",
       "      <th>248</th>\n",
       "      <td>False</td>\n",
       "      <td>False</td>\n",
       "      <td>False</td>\n",
       "      <td>False</td>\n",
       "      <td>False</td>\n",
       "      <td>False</td>\n",
       "      <td>False</td>\n",
       "    </tr>\n",
       "    <tr>\n",
       "      <th>249</th>\n",
       "      <td>False</td>\n",
       "      <td>False</td>\n",
       "      <td>False</td>\n",
       "      <td>False</td>\n",
       "      <td>False</td>\n",
       "      <td>False</td>\n",
       "      <td>False</td>\n",
       "    </tr>\n",
       "  </tbody>\n",
       "</table>\n",
       "<p>250 rows × 7 columns</p>\n",
       "</div>"
      ],
      "text/plain": [
       "     industrial_risk   management_risk   financial_flexibility   credibility  \\\n",
       "0              False             False                   False         False   \n",
       "1              False             False                   False         False   \n",
       "2              False             False                   False         False   \n",
       "3              False             False                   False         False   \n",
       "4              False             False                   False         False   \n",
       "..               ...               ...                     ...           ...   \n",
       "245            False             False                   False         False   \n",
       "246            False             False                   False         False   \n",
       "247            False             False                   False         False   \n",
       "248            False             False                   False         False   \n",
       "249            False             False                   False         False   \n",
       "\n",
       "      competitiveness   operating_risk   class  \n",
       "0               False            False   False  \n",
       "1               False            False   False  \n",
       "2               False            False   False  \n",
       "3               False            False   False  \n",
       "4               False            False   False  \n",
       "..                ...              ...     ...  \n",
       "245             False            False   False  \n",
       "246             False            False   False  \n",
       "247             False            False   False  \n",
       "248             False            False   False  \n",
       "249             False            False   False  \n",
       "\n",
       "[250 rows x 7 columns]"
      ]
     },
     "execution_count": 8,
     "metadata": {},
     "output_type": "execute_result"
    }
   ],
   "source": [
    "df.isnull() # no null values"
   ]
  },
  {
   "cell_type": "code",
   "execution_count": 9,
   "id": "9b4cf369",
   "metadata": {},
   "outputs": [
    {
     "data": {
      "text/plain": [
       "industrial_risk           0\n",
       " management_risk          0\n",
       " financial_flexibility    0\n",
       " credibility              0\n",
       " competitiveness          0\n",
       " operating_risk           0\n",
       " class                    0\n",
       "dtype: int64"
      ]
     },
     "execution_count": 9,
     "metadata": {},
     "output_type": "execute_result"
    }
   ],
   "source": [
    "df.isnull().sum()"
   ]
  },
  {
   "cell_type": "code",
   "execution_count": 10,
   "id": "4fa6be7c",
   "metadata": {},
   "outputs": [
    {
     "data": {
      "text/plain": [
       "0      False\n",
       "1      False\n",
       "2      False\n",
       "3      False\n",
       "4      False\n",
       "       ...  \n",
       "245     True\n",
       "246     True\n",
       "247     True\n",
       "248     True\n",
       "249     True\n",
       "Length: 250, dtype: bool"
      ]
     },
     "execution_count": 10,
     "metadata": {},
     "output_type": "execute_result"
    }
   ],
   "source": [
    "df.duplicated()"
   ]
  },
  {
   "cell_type": "code",
   "execution_count": 11,
   "id": "42973cf5",
   "metadata": {},
   "outputs": [
    {
     "data": {
      "text/plain": [
       "array([False, False, False, False, False, False, False])"
      ]
     },
     "execution_count": 11,
     "metadata": {},
     "output_type": "execute_result"
    }
   ],
   "source": [
    "df.columns.duplicated()\n"
   ]
  },
  {
   "cell_type": "code",
   "execution_count": 12,
   "id": "7bf08508",
   "metadata": {},
   "outputs": [
    {
     "data": {
      "text/plain": [
       "industrial_risk           float64\n",
       " management_risk          float64\n",
       " financial_flexibility    float64\n",
       " credibility              float64\n",
       " competitiveness          float64\n",
       " operating_risk           float64\n",
       " class                     object\n",
       "dtype: object"
      ]
     },
     "execution_count": 12,
     "metadata": {},
     "output_type": "execute_result"
    }
   ],
   "source": [
    "df.dtypes"
   ]
  },
  {
   "cell_type": "code",
   "execution_count": 13,
   "id": "b6f6a100",
   "metadata": {},
   "outputs": [
    {
     "data": {
      "text/plain": [
       "1.0    89\n",
       "0.5    81\n",
       "0.0    80\n",
       "Name: industrial_risk, dtype: int64"
      ]
     },
     "execution_count": 13,
     "metadata": {},
     "output_type": "execute_result"
    }
   ],
   "source": [
    "df[\"industrial_risk\"].value_counts()\n"
   ]
  },
  {
   "cell_type": "code",
   "execution_count": 14,
   "id": "3840566c",
   "metadata": {},
   "outputs": [
    {
     "data": {
      "text/plain": [
       "1.0    119\n",
       "0.5     69\n",
       "0.0     62\n",
       "Name:  management_risk, dtype: int64"
      ]
     },
     "execution_count": 14,
     "metadata": {},
     "output_type": "execute_result"
    }
   ],
   "source": [
    "df[\" management_risk\"].value_counts()\n"
   ]
  },
  {
   "cell_type": "code",
   "execution_count": 15,
   "id": "288b3276",
   "metadata": {},
   "outputs": [
    {
     "data": {
      "text/plain": [
       "0.0    119\n",
       "0.5     74\n",
       "1.0     57\n",
       "Name:  financial_flexibility, dtype: int64"
      ]
     },
     "execution_count": 15,
     "metadata": {},
     "output_type": "execute_result"
    }
   ],
   "source": [
    "df[\" financial_flexibility\"].value_counts()"
   ]
  },
  {
   "cell_type": "code",
   "execution_count": 16,
   "id": "478d7e98",
   "metadata": {},
   "outputs": [
    {
     "data": {
      "text/plain": [
       "0.0    94\n",
       "1.0    79\n",
       "0.5    77\n",
       "Name:  credibility, dtype: int64"
      ]
     },
     "execution_count": 16,
     "metadata": {},
     "output_type": "execute_result"
    }
   ],
   "source": [
    "df[\" credibility\"].value_counts()"
   ]
  },
  {
   "cell_type": "code",
   "execution_count": 17,
   "id": "a5e5ab4b",
   "metadata": {},
   "outputs": [
    {
     "data": {
      "text/plain": [
       "0.0    103\n",
       "1.0     91\n",
       "0.5     56\n",
       "Name:  competitiveness, dtype: int64"
      ]
     },
     "execution_count": 17,
     "metadata": {},
     "output_type": "execute_result"
    }
   ],
   "source": [
    "df[\" competitiveness\"].value_counts()"
   ]
  },
  {
   "cell_type": "code",
   "execution_count": 18,
   "id": "c534b0f7",
   "metadata": {},
   "outputs": [
    {
     "data": {
      "text/plain": [
       "1.0    114\n",
       "0.0     79\n",
       "0.5     57\n",
       "Name:  operating_risk, dtype: int64"
      ]
     },
     "execution_count": 18,
     "metadata": {},
     "output_type": "execute_result"
    }
   ],
   "source": [
    "df[\" operating_risk\"].value_counts()"
   ]
  },
  {
   "cell_type": "markdown",
   "id": "e973ed77",
   "metadata": {},
   "source": [
    "# Rename the columns"
   ]
  },
  {
   "cell_type": "code",
   "execution_count": 19,
   "id": "2b75a8b9",
   "metadata": {},
   "outputs": [],
   "source": [
    "df1 = df.rename({' industrial_risk': ' Industrial',\n",
    "                 ' management_risk': 'Management',\n",
    "                 ' financial_flexibility': 'Financial',\n",
    "                 ' credibility': 'Credibility',\n",
    "                 ' competitiveness': 'Competitive',\n",
    "                 ' operating_risk': 'Operational',\n",
    "                ' class' : 'class'},\n",
    "                axis=1)"
   ]
  },
  {
   "cell_type": "code",
   "execution_count": 20,
   "id": "d7c66b0b",
   "metadata": {},
   "outputs": [
    {
     "data": {
      "text/html": [
       "<div>\n",
       "<style scoped>\n",
       "    .dataframe tbody tr th:only-of-type {\n",
       "        vertical-align: middle;\n",
       "    }\n",
       "\n",
       "    .dataframe tbody tr th {\n",
       "        vertical-align: top;\n",
       "    }\n",
       "\n",
       "    .dataframe thead th {\n",
       "        text-align: right;\n",
       "    }\n",
       "</style>\n",
       "<table border=\"1\" class=\"dataframe\">\n",
       "  <thead>\n",
       "    <tr style=\"text-align: right;\">\n",
       "      <th></th>\n",
       "      <th>industrial_risk</th>\n",
       "      <th>Management</th>\n",
       "      <th>Financial</th>\n",
       "      <th>Credibility</th>\n",
       "      <th>Competitive</th>\n",
       "      <th>Operational</th>\n",
       "      <th>class</th>\n",
       "    </tr>\n",
       "  </thead>\n",
       "  <tbody>\n",
       "    <tr>\n",
       "      <th>0</th>\n",
       "      <td>0.5</td>\n",
       "      <td>1.0</td>\n",
       "      <td>0.0</td>\n",
       "      <td>0.0</td>\n",
       "      <td>0.0</td>\n",
       "      <td>0.5</td>\n",
       "      <td>bankruptcy</td>\n",
       "    </tr>\n",
       "    <tr>\n",
       "      <th>1</th>\n",
       "      <td>0.0</td>\n",
       "      <td>1.0</td>\n",
       "      <td>0.0</td>\n",
       "      <td>0.0</td>\n",
       "      <td>0.0</td>\n",
       "      <td>1.0</td>\n",
       "      <td>bankruptcy</td>\n",
       "    </tr>\n",
       "    <tr>\n",
       "      <th>2</th>\n",
       "      <td>1.0</td>\n",
       "      <td>0.0</td>\n",
       "      <td>0.0</td>\n",
       "      <td>0.0</td>\n",
       "      <td>0.0</td>\n",
       "      <td>1.0</td>\n",
       "      <td>bankruptcy</td>\n",
       "    </tr>\n",
       "    <tr>\n",
       "      <th>3</th>\n",
       "      <td>0.5</td>\n",
       "      <td>0.0</td>\n",
       "      <td>0.0</td>\n",
       "      <td>0.5</td>\n",
       "      <td>0.0</td>\n",
       "      <td>1.0</td>\n",
       "      <td>bankruptcy</td>\n",
       "    </tr>\n",
       "    <tr>\n",
       "      <th>4</th>\n",
       "      <td>1.0</td>\n",
       "      <td>1.0</td>\n",
       "      <td>0.0</td>\n",
       "      <td>0.0</td>\n",
       "      <td>0.0</td>\n",
       "      <td>1.0</td>\n",
       "      <td>bankruptcy</td>\n",
       "    </tr>\n",
       "  </tbody>\n",
       "</table>\n",
       "</div>"
      ],
      "text/plain": [
       "   industrial_risk  Management  Financial  Credibility  Competitive  \\\n",
       "0              0.5         1.0        0.0          0.0          0.0   \n",
       "1              0.0         1.0        0.0          0.0          0.0   \n",
       "2              1.0         0.0        0.0          0.0          0.0   \n",
       "3              0.5         0.0        0.0          0.5          0.0   \n",
       "4              1.0         1.0        0.0          0.0          0.0   \n",
       "\n",
       "   Operational       class  \n",
       "0          0.5  bankruptcy  \n",
       "1          1.0  bankruptcy  \n",
       "2          1.0  bankruptcy  \n",
       "3          1.0  bankruptcy  \n",
       "4          1.0  bankruptcy  "
      ]
     },
     "execution_count": 20,
     "metadata": {},
     "output_type": "execute_result"
    }
   ],
   "source": [
    "df1.head()"
   ]
  },
  {
   "cell_type": "code",
   "execution_count": 21,
   "id": "e636af68",
   "metadata": {},
   "outputs": [],
   "source": [
    "import seaborn as sns\n",
    "import matplotlib.pyplot as plt\n",
    "import warnings\n",
    "warnings.filterwarnings('ignore')"
   ]
  },
  {
   "cell_type": "markdown",
   "id": "3aba606a",
   "metadata": {},
   "source": [
    "# Using distplot"
   ]
  },
  {
   "cell_type": "code",
   "execution_count": 22,
   "id": "f3833870",
   "metadata": {},
   "outputs": [
    {
     "data": {
      "image/png": "[encoded data removed]",
      "text/plain": [
       "<Figure size 432x288 with 1 Axes>"
      ]
     },
     "metadata": {
      "needs_background": "light"
     },
     "output_type": "display_data"
    }
   ],
   "source": [
    "sns.distplot(df1['industrial_risk'])\n",
    "plt.show()"
   ]
  },
  {
   "cell_type": "code",
   "execution_count": 23,
   "id": "ab9f5d59",
   "metadata": {},
   "outputs": [
    {
     "data": {
      "image/png": "[encoded data removed]",
      "text/plain": [
       "<Figure size 432x288 with 1 Axes>"
      ]
     },
     "metadata": {
      "needs_background": "light"
     },
     "output_type": "display_data"
    }
   ],
   "source": [
    "sns.distplot(df1['Management'])\n",
    "plt.show()"
   ]
  },
  {
   "cell_type": "code",
   "execution_count": 24,
   "id": "16d2b5ff",
   "metadata": {},
   "outputs": [
    {
     "data": {
      "image/png": "[encoded data removed]",
      "text/plain": [
       "<Figure size 432x288 with 1 Axes>"
      ]
     },
     "metadata": {
      "needs_background": "light"
     },
     "output_type": "display_data"
    }
   ],
   "source": [
    "sns.distplot(df1['Financial'])\n",
    "plt.show()"
   ]
  },
  {
   "cell_type": "code",
   "execution_count": 25,
   "id": "35bb0b39",
   "metadata": {},
   "outputs": [
    {
     "data": {
      "image/png": "[encoded data removed]",
      "text/plain": [
       "<Figure size 432x288 with 1 Axes>"
      ]
     },
     "metadata": {
      "needs_background": "light"
     },
     "output_type": "display_data"
    }
   ],
   "source": [
    "sns.distplot(df1['Credibility'])\n",
    "plt.show()"
   ]
  },
  {
   "cell_type": "code",
   "execution_count": 26,
   "id": "21159e58",
   "metadata": {},
   "outputs": [
    {
     "data": {
      "image/png": "[encoded data removed]",
      "text/plain": [
       "<Figure size 432x288 with 1 Axes>"
      ]
     },
     "metadata": {
      "needs_background": "light"
     },
     "output_type": "display_data"
    }
   ],
   "source": [
    "sns.distplot(df1['Competitive'])\n",
    "plt.show()"
   ]
  },
  {
   "cell_type": "code",
   "execution_count": 27,
   "id": "3b591230",
   "metadata": {},
   "outputs": [
    {
     "data": {
      "image/png": "[encoded data removed]",
      "text/plain": [
       "<Figure size 432x288 with 1 Axes>"
      ]
     },
     "metadata": {
      "needs_background": "light"
     },
     "output_type": "display_data"
    }
   ],
   "source": [
    "sns.distplot(df1['Operational'])\n",
    "plt.show()"
   ]
  },
  {
   "cell_type": "markdown",
   "id": "c30f868b",
   "metadata": {},
   "source": [
    "# Using Swarmplot"
   ]
  },
  {
   "cell_type": "code",
   "execution_count": 28,
   "id": "e1021036",
   "metadata": {},
   "outputs": [
    {
     "data": {
      "text/plain": [
       "<AxesSubplot:xlabel='industrial_risk', ylabel='class'>"
      ]
     },
     "execution_count": 28,
     "metadata": {},
     "output_type": "execute_result"
    },
    {
     "data": {
      "image/png": "[encoded data removed]",
      "text/plain": [
       "<Figure size 432x288 with 1 Axes>"
      ]
     },
     "metadata": {
      "needs_background": "light"
     },
     "output_type": "display_data"
    }
   ],
   "source": [
    "sns.swarmplot(df1['industrial_risk'],df1['class'])\n"
   ]
  },
  {
   "cell_type": "code",
   "execution_count": 29,
   "id": "a07d2b94",
   "metadata": {},
   "outputs": [
    {
     "data": {
      "text/plain": [
       "<AxesSubplot:xlabel='Management', ylabel='class'>"
      ]
     },
     "execution_count": 29,
     "metadata": {},
     "output_type": "execute_result"
    },
    {
     "data": {
      "image/png": "[encoded data removed]",
      "text/plain": [
       "<Figure size 432x288 with 1 Axes>"
      ]
     },
     "metadata": {
      "needs_background": "light"
     },
     "output_type": "display_data"
    }
   ],
   "source": [
    "sns.swarmplot(df1['Management'],df1['class'])\n"
   ]
  },
  {
   "cell_type": "code",
   "execution_count": 30,
   "id": "cf2d64a3",
   "metadata": {},
   "outputs": [
    {
     "data": {
      "text/plain": [
       "<AxesSubplot:xlabel='Financial', ylabel='class'>"
      ]
     },
     "execution_count": 30,
     "metadata": {},
     "output_type": "execute_result"
    },
    {
     "data": {
      "image/png": "[encoded data removed]",
      "text/plain": [
       "<Figure size 432x288 with 1 Axes>"
      ]
     },
     "metadata": {
      "needs_background": "light"
     },
     "output_type": "display_data"
    }
   ],
   "source": [
    "sns.swarmplot(df1['Financial'],df1['class'])\n"
   ]
  },
  {
   "cell_type": "code",
   "execution_count": 31,
   "id": "e5f8b292",
   "metadata": {},
   "outputs": [
    {
     "data": {
      "text/plain": [
       "<AxesSubplot:xlabel='Credibility', ylabel='class'>"
      ]
     },
     "execution_count": 31,
     "metadata": {},
     "output_type": "execute_result"
    },
    {
     "data": {
      "image/png": "[encoded data removed]",
      "text/plain": [
       "<Figure size 432x288 with 1 Axes>"
      ]
     },
     "metadata": {
      "needs_background": "light"
     },
     "output_type": "display_data"
    }
   ],
   "source": [
    "sns.swarmplot(df1['Credibility'],df1['class'])\n"
   ]
  },
  {
   "cell_type": "code",
   "execution_count": 32,
   "id": "892aca03",
   "metadata": {},
   "outputs": [
    {
     "data": {
      "text/plain": [
       "<AxesSubplot:xlabel='Competitive', ylabel='class'>"
      ]
     },
     "execution_count": 32,
     "metadata": {},
     "output_type": "execute_result"
    },
    {
     "data": {
      "image/png": "[encoded data removed]",
      "text/plain": [
       "<Figure size 432x288 with 1 Axes>"
      ]
     },
     "metadata": {
      "needs_background": "light"
     },
     "output_type": "display_data"
    }
   ],
   "source": [
    "sns.swarmplot(df1['Competitive'],df1['class'])\n"
   ]
  },
  {
   "cell_type": "code",
   "execution_count": 33,
   "id": "97c105a2",
   "metadata": {},
   "outputs": [
    {
     "data": {
      "text/plain": [
       "<AxesSubplot:xlabel='Operational', ylabel='class'>"
      ]
     },
     "execution_count": 33,
     "metadata": {},
     "output_type": "execute_result"
    },
    {
     "data": {
      "image/png": "[encoded data removed]",
      "text/plain": [
       "<Figure size 432x288 with 1 Axes>"
      ]
     },
     "metadata": {
      "needs_background": "light"
     },
     "output_type": "display_data"
    }
   ],
   "source": [
    "sns.swarmplot(df1['Operational'],df1['class'])\n"
   ]
  },
  {
   "cell_type": "markdown",
   "id": "7ad93a44",
   "metadata": {},
   "source": [
    "# Using Countplot"
   ]
  },
  {
   "cell_type": "code",
   "execution_count": 34,
   "id": "038fbf73",
   "metadata": {},
   "outputs": [
    {
     "data": {
      "text/plain": [
       "<AxesSubplot:xlabel='industrial_risk', ylabel='count'>"
      ]
     },
     "execution_count": 34,
     "metadata": {},
     "output_type": "execute_result"
    },
    {
     "data": {
      "image/png": "[encoded data removed]",
      "text/plain": [
       "<Figure size 432x288 with 1 Axes>"
      ]
     },
     "metadata": {
      "needs_background": "light"
     },
     "output_type": "display_data"
    }
   ],
   "source": [
    "sns.countplot(df1['industrial_risk'])"
   ]
  },
  {
   "cell_type": "code",
   "execution_count": 35,
   "id": "dee8ca8f",
   "metadata": {},
   "outputs": [
    {
     "data": {
      "text/plain": [
       "<AxesSubplot:xlabel='Management', ylabel='count'>"
      ]
     },
     "execution_count": 35,
     "metadata": {},
     "output_type": "execute_result"
    },
    {
     "data": {
      "image/png": "[encoded data removed]",
      "text/plain": [
       "<Figure size 432x288 with 1 Axes>"
      ]
     },
     "metadata": {
      "needs_background": "light"
     },
     "output_type": "display_data"
    }
   ],
   "source": [
    "sns.countplot(df1['Management'])"
   ]
  },
  {
   "cell_type": "code",
   "execution_count": 36,
   "id": "21b02abd",
   "metadata": {},
   "outputs": [
    {
     "data": {
      "text/plain": [
       "<AxesSubplot:xlabel='Financial', ylabel='count'>"
      ]
     },
     "execution_count": 36,
     "metadata": {},
     "output_type": "execute_result"
    },
    {
     "data": {
      "image/png": "[encoded data removed]",
      "text/plain": [
       "<Figure size 432x288 with 1 Axes>"
      ]
     },
     "metadata": {
      "needs_background": "light"
     },
     "output_type": "display_data"
    }
   ],
   "source": [
    "sns.countplot(df1['Financial'])"
   ]
  },
  {
   "cell_type": "code",
   "execution_count": 37,
   "id": "a973bbc2",
   "metadata": {},
   "outputs": [
    {
     "data": {
      "text/plain": [
       "<AxesSubplot:xlabel='Credibility', ylabel='count'>"
      ]
     },
     "execution_count": 37,
     "metadata": {},
     "output_type": "execute_result"
    },
    {
     "data": {
      "image/png": "[encoded data removed]",
      "text/plain": [
       "<Figure size 432x288 with 1 Axes>"
      ]
     },
     "metadata": {
      "needs_background": "light"
     },
     "output_type": "display_data"
    }
   ],
   "source": [
    "sns.countplot(df1['Credibility'])"
   ]
  },
  {
   "cell_type": "code",
   "execution_count": 38,
   "id": "d9fa446e",
   "metadata": {},
   "outputs": [
    {
     "data": {
      "text/plain": [
       "<AxesSubplot:xlabel='Competitive', ylabel='count'>"
      ]
     },
     "execution_count": 38,
     "metadata": {},
     "output_type": "execute_result"
    },
    {
     "data": {
      "image/png": "[encoded data removed]",
      "text/plain": [
       "<Figure size 432x288 with 1 Axes>"
      ]
     },
     "metadata": {
      "needs_background": "light"
     },
     "output_type": "display_data"
    }
   ],
   "source": [
    "sns.countplot(df1['Competitive'])"
   ]
  },
  {
   "cell_type": "code",
   "execution_count": 39,
   "id": "1527f70a",
   "metadata": {},
   "outputs": [
    {
     "data": {
      "text/plain": [
       "<AxesSubplot:xlabel='Operational', ylabel='count'>"
      ]
     },
     "execution_count": 39,
     "metadata": {},
     "output_type": "execute_result"
    },
    {
     "data": {
      "image/png": "[encoded data removed]",
      "text/plain": [
       "<Figure size 432x288 with 1 Axes>"
      ]
     },
     "metadata": {
      "needs_background": "light"
     },
     "output_type": "display_data"
    }
   ],
   "source": [
    "sns.countplot(df1['Operational'])"
   ]
  },
  {
   "cell_type": "markdown",
   "id": "c8bf0ec3",
   "metadata": {},
   "source": [
    "# using Boxplot"
   ]
  },
  {
   "cell_type": "code",
   "execution_count": 40,
   "id": "d3284111",
   "metadata": {},
   "outputs": [
    {
     "data": {
      "image/png": "[encoded data removed]",
      "text/plain": [
       "<Figure size 432x288 with 1 Axes>"
      ]
     },
     "metadata": {
      "needs_background": "light"
     },
     "output_type": "display_data"
    },
    {
     "data": {
      "image/png": "[encoded data removed]",
      "text/plain": [
       "<Figure size 432x288 with 1 Axes>"
      ]
     },
     "metadata": {
      "needs_background": "light"
     },
     "output_type": "display_data"
    },
    {
     "data": {
      "image/png": "[encoded data removed]",
      "text/plain": [
       "<Figure size 432x288 with 1 Axes>"
      ]
     },
     "metadata": {
      "needs_background": "light"
     },
     "output_type": "display_data"
    },
    {
     "data": {
      "image/png": "[encoded data removed]",
      "text/plain": [
       "<Figure size 432x288 with 1 Axes>"
      ]
     },
     "metadata": {
      "needs_background": "light"
     },
     "output_type": "display_data"
    },
    {
     "data": {
      "image/png": "[encoded data removed]",
      "text/plain": [
       "<Figure size 432x288 with 1 Axes>"
      ]
     },
     "metadata": {
      "needs_background": "light"
     },
     "output_type": "display_data"
    },
    {
     "data": {
      "image/png": "[encoded data removed]",
      "text/plain": [
       "<Figure size 432x288 with 1 Axes>"
      ]
     },
     "metadata": {
      "needs_background": "light"
     },
     "output_type": "display_data"
    }
   ],
   "source": [
    "\n",
    "import matplotlib.pyplot as plt\n",
    "\n",
    "def plot_boxplot(df,ft):\n",
    "    df.boxplot(column=[ft])\n",
    "    plt.grid(False)\n",
    "    plt.show()\n",
    "    \n",
    "plot_boxplot(df1, \"industrial_risk\")\n",
    "\n",
    "    \n",
    "plot_boxplot(df1, \"Management\")\n",
    "\n",
    "    \n",
    "plot_boxplot(df1, \"Financial\")\n",
    "\n",
    "     \n",
    "plot_boxplot(df1, \"Credibility\")\n",
    "\n",
    "plot_boxplot(df1, \"Competitive\")\n",
    "\n",
    "plot_boxplot(df1, \"Operational\")"
   ]
  },
  {
   "cell_type": "code",
   "execution_count": 41,
   "id": "d210656c",
   "metadata": {},
   "outputs": [
    {
     "data": {
      "text/plain": [
       "(250, 7)"
      ]
     },
     "execution_count": 41,
     "metadata": {},
     "output_type": "execute_result"
    }
   ],
   "source": [
    "def outliers(df,ft):\n",
    "    Q1 = df[ft].quantile(0.25)\n",
    "    Q3 = df[ft].quantile(0.75)\n",
    "    IQR = Q3-Q1\n",
    "    \n",
    "    lower_bound = Q1-1.5* IQR\n",
    "    upper_bound = Q3 + 1.5 * IQR\n",
    "    ls = df.index[(df[ft] < lower_bound) | (df[ft] > upper_bound)]\n",
    "    return ls\n",
    "\n",
    "\n",
    "index_list = []\n",
    "for feature in [\"industrial_risk\",\"Management\",\"Financial\",\"Credibility\",\"Competitive\",\"Operational\"]:\n",
    "    index_list.extend(outliers(df1,feature))\n",
    "\n",
    "\n",
    "index_list\n",
    "\n",
    "def remove(df,ls):\n",
    "    ls = sorted(set(ls))\n",
    "    df = df.drop(ls)\n",
    "    return df\n",
    "\n",
    "df_cleaned = remove(df1,index_list)\n",
    "df_cleaned.shape\n",
    "\n",
    "\n",
    "df_cleaned.shape"
   ]
  },
  {
   "cell_type": "code",
   "execution_count": 42,
   "id": "126323e4",
   "metadata": {},
   "outputs": [],
   "source": [
    "df1 = df_cleaned"
   ]
  },
  {
   "cell_type": "code",
   "execution_count": 43,
   "id": "03c33617",
   "metadata": {},
   "outputs": [
    {
     "data": {
      "text/html": [
       "<div>\n",
       "<style scoped>\n",
       "    .dataframe tbody tr th:only-of-type {\n",
       "        vertical-align: middle;\n",
       "    }\n",
       "\n",
       "    .dataframe tbody tr th {\n",
       "        vertical-align: top;\n",
       "    }\n",
       "\n",
       "    .dataframe thead th {\n",
       "        text-align: right;\n",
       "    }\n",
       "</style>\n",
       "<table border=\"1\" class=\"dataframe\">\n",
       "  <thead>\n",
       "    <tr style=\"text-align: right;\">\n",
       "      <th></th>\n",
       "      <th>industrial_risk</th>\n",
       "      <th>Management</th>\n",
       "      <th>Financial</th>\n",
       "      <th>Credibility</th>\n",
       "      <th>Competitive</th>\n",
       "      <th>Operational</th>\n",
       "      <th>class</th>\n",
       "    </tr>\n",
       "  </thead>\n",
       "  <tbody>\n",
       "    <tr>\n",
       "      <th>0</th>\n",
       "      <td>0.5</td>\n",
       "      <td>1.0</td>\n",
       "      <td>0.0</td>\n",
       "      <td>0.0</td>\n",
       "      <td>0.0</td>\n",
       "      <td>0.5</td>\n",
       "      <td>bankruptcy</td>\n",
       "    </tr>\n",
       "    <tr>\n",
       "      <th>1</th>\n",
       "      <td>0.0</td>\n",
       "      <td>1.0</td>\n",
       "      <td>0.0</td>\n",
       "      <td>0.0</td>\n",
       "      <td>0.0</td>\n",
       "      <td>1.0</td>\n",
       "      <td>bankruptcy</td>\n",
       "    </tr>\n",
       "    <tr>\n",
       "      <th>2</th>\n",
       "      <td>1.0</td>\n",
       "      <td>0.0</td>\n",
       "      <td>0.0</td>\n",
       "      <td>0.0</td>\n",
       "      <td>0.0</td>\n",
       "      <td>1.0</td>\n",
       "      <td>bankruptcy</td>\n",
       "    </tr>\n",
       "    <tr>\n",
       "      <th>3</th>\n",
       "      <td>0.5</td>\n",
       "      <td>0.0</td>\n",
       "      <td>0.0</td>\n",
       "      <td>0.5</td>\n",
       "      <td>0.0</td>\n",
       "      <td>1.0</td>\n",
       "      <td>bankruptcy</td>\n",
       "    </tr>\n",
       "    <tr>\n",
       "      <th>4</th>\n",
       "      <td>1.0</td>\n",
       "      <td>1.0</td>\n",
       "      <td>0.0</td>\n",
       "      <td>0.0</td>\n",
       "      <td>0.0</td>\n",
       "      <td>1.0</td>\n",
       "      <td>bankruptcy</td>\n",
       "    </tr>\n",
       "  </tbody>\n",
       "</table>\n",
       "</div>"
      ],
      "text/plain": [
       "   industrial_risk  Management  Financial  Credibility  Competitive  \\\n",
       "0              0.5         1.0        0.0          0.0          0.0   \n",
       "1              0.0         1.0        0.0          0.0          0.0   \n",
       "2              1.0         0.0        0.0          0.0          0.0   \n",
       "3              0.5         0.0        0.0          0.5          0.0   \n",
       "4              1.0         1.0        0.0          0.0          0.0   \n",
       "\n",
       "   Operational       class  \n",
       "0          0.5  bankruptcy  \n",
       "1          1.0  bankruptcy  \n",
       "2          1.0  bankruptcy  \n",
       "3          1.0  bankruptcy  \n",
       "4          1.0  bankruptcy  "
      ]
     },
     "execution_count": 43,
     "metadata": {},
     "output_type": "execute_result"
    }
   ],
   "source": [
    "df1.head()"
   ]
  },
  {
   "cell_type": "markdown",
   "id": "29905323",
   "metadata": {},
   "source": [
    "# Histogram"
   ]
  },
  {
   "cell_type": "code",
   "execution_count": 44,
   "id": "258405d6",
   "metadata": {},
   "outputs": [
    {
     "data": {
      "text/plain": [
       "<AxesSubplot:>"
      ]
     },
     "execution_count": 44,
     "metadata": {},
     "output_type": "execute_result"
    },
    {
     "data": {
      "image/png": "[encoded data removed]",
      "text/plain": [
       "<Figure size 432x288 with 1 Axes>"
      ]
     },
     "metadata": {
      "needs_background": "light"
     },
     "output_type": "display_data"
    }
   ],
   "source": [
    "df1[\"industrial_risk\"].hist()"
   ]
  },
  {
   "cell_type": "code",
   "execution_count": 45,
   "id": "e2e331eb",
   "metadata": {},
   "outputs": [
    {
     "data": {
      "text/plain": [
       "<AxesSubplot:>"
      ]
     },
     "execution_count": 45,
     "metadata": {},
     "output_type": "execute_result"
    },
    {
     "data": {
      "image/png": "[encoded data removed]",
      "text/plain": [
       "<Figure size 432x288 with 1 Axes>"
      ]
     },
     "metadata": {
      "needs_background": "light"
     },
     "output_type": "display_data"
    }
   ],
   "source": [
    "df1[\"Management\"].hist()\n"
   ]
  },
  {
   "cell_type": "code",
   "execution_count": 46,
   "id": "39fd9e63",
   "metadata": {},
   "outputs": [
    {
     "data": {
      "text/plain": [
       "<AxesSubplot:>"
      ]
     },
     "execution_count": 46,
     "metadata": {},
     "output_type": "execute_result"
    },
    {
     "data": {
      "image/png": "[encoded data removed]",
      "text/plain": [
       "<Figure size 432x288 with 1 Axes>"
      ]
     },
     "metadata": {
      "needs_background": "light"
     },
     "output_type": "display_data"
    }
   ],
   "source": [
    "df1[\"Financial\"].hist()\n"
   ]
  },
  {
   "cell_type": "code",
   "execution_count": 47,
   "id": "eca6f687",
   "metadata": {},
   "outputs": [
    {
     "data": {
      "text/plain": [
       "<AxesSubplot:>"
      ]
     },
     "execution_count": 47,
     "metadata": {},
     "output_type": "execute_result"
    },
    {
     "data": {
      "image/png": "[encoded data removed]",
      "text/plain": [
       "<Figure size 432x288 with 1 Axes>"
      ]
     },
     "metadata": {
      "needs_background": "light"
     },
     "output_type": "display_data"
    }
   ],
   "source": [
    "df1[\"Credibility\"].hist()\n"
   ]
  },
  {
   "cell_type": "code",
   "execution_count": 48,
   "id": "63af1bcb",
   "metadata": {},
   "outputs": [
    {
     "data": {
      "text/plain": [
       "<AxesSubplot:>"
      ]
     },
     "execution_count": 48,
     "metadata": {},
     "output_type": "execute_result"
    },
    {
     "data": {
      "image/png": "[encoded data removed]",
      "text/plain": [
       "<Figure size 432x288 with 1 Axes>"
      ]
     },
     "metadata": {
      "needs_background": "light"
     },
     "output_type": "display_data"
    }
   ],
   "source": [
    "df1[\"Competitive\"].hist()\n"
   ]
  },
  {
   "cell_type": "code",
   "execution_count": 49,
   "id": "72df1b03",
   "metadata": {},
   "outputs": [
    {
     "data": {
      "text/plain": [
       "<AxesSubplot:>"
      ]
     },
     "execution_count": 49,
     "metadata": {},
     "output_type": "execute_result"
    },
    {
     "data": {
      "image/png": "[encoded data removed]",
      "text/plain": [
       "<Figure size 432x288 with 1 Axes>"
      ]
     },
     "metadata": {
      "needs_background": "light"
     },
     "output_type": "display_data"
    }
   ],
   "source": [
    "df1[\"Operational\"].hist()\n"
   ]
  },
  {
   "cell_type": "markdown",
   "id": "34bbe471",
   "metadata": {},
   "source": [
    "# Using LabelEncoder converting categoricalinto numerical"
   ]
  },
  {
   "cell_type": "code",
   "execution_count": 50,
   "id": "81137fd5",
   "metadata": {},
   "outputs": [],
   "source": [
    "from sklearn.preprocessing import LabelEncoder\n",
    "LE = LabelEncoder()\n",
    "df1[\"class\"] = LE.fit_transform(df1[\"class\"])"
   ]
  },
  {
   "cell_type": "markdown",
   "id": "f8833ae0",
   "metadata": {},
   "source": [
    "# bankruptcy = 0   , nonbankruptcy = 1"
   ]
  },
  {
   "cell_type": "code",
   "execution_count": 51,
   "id": "e8b3c09c",
   "metadata": {},
   "outputs": [
    {
     "data": {
      "text/html": [
       "<div>\n",
       "<style scoped>\n",
       "    .dataframe tbody tr th:only-of-type {\n",
       "        vertical-align: middle;\n",
       "    }\n",
       "\n",
       "    .dataframe tbody tr th {\n",
       "        vertical-align: top;\n",
       "    }\n",
       "\n",
       "    .dataframe thead th {\n",
       "        text-align: right;\n",
       "    }\n",
       "</style>\n",
       "<table border=\"1\" class=\"dataframe\">\n",
       "  <thead>\n",
       "    <tr style=\"text-align: right;\">\n",
       "      <th></th>\n",
       "      <th>industrial_risk</th>\n",
       "      <th>Management</th>\n",
       "      <th>Financial</th>\n",
       "      <th>Credibility</th>\n",
       "      <th>Competitive</th>\n",
       "      <th>Operational</th>\n",
       "      <th>class</th>\n",
       "    </tr>\n",
       "  </thead>\n",
       "  <tbody>\n",
       "    <tr>\n",
       "      <th>0</th>\n",
       "      <td>0.5</td>\n",
       "      <td>1.0</td>\n",
       "      <td>0.0</td>\n",
       "      <td>0.0</td>\n",
       "      <td>0.0</td>\n",
       "      <td>0.5</td>\n",
       "      <td>0</td>\n",
       "    </tr>\n",
       "    <tr>\n",
       "      <th>1</th>\n",
       "      <td>0.0</td>\n",
       "      <td>1.0</td>\n",
       "      <td>0.0</td>\n",
       "      <td>0.0</td>\n",
       "      <td>0.0</td>\n",
       "      <td>1.0</td>\n",
       "      <td>0</td>\n",
       "    </tr>\n",
       "    <tr>\n",
       "      <th>2</th>\n",
       "      <td>1.0</td>\n",
       "      <td>0.0</td>\n",
       "      <td>0.0</td>\n",
       "      <td>0.0</td>\n",
       "      <td>0.0</td>\n",
       "      <td>1.0</td>\n",
       "      <td>0</td>\n",
       "    </tr>\n",
       "    <tr>\n",
       "      <th>3</th>\n",
       "      <td>0.5</td>\n",
       "      <td>0.0</td>\n",
       "      <td>0.0</td>\n",
       "      <td>0.5</td>\n",
       "      <td>0.0</td>\n",
       "      <td>1.0</td>\n",
       "      <td>0</td>\n",
       "    </tr>\n",
       "    <tr>\n",
       "      <th>4</th>\n",
       "      <td>1.0</td>\n",
       "      <td>1.0</td>\n",
       "      <td>0.0</td>\n",
       "      <td>0.0</td>\n",
       "      <td>0.0</td>\n",
       "      <td>1.0</td>\n",
       "      <td>0</td>\n",
       "    </tr>\n",
       "  </tbody>\n",
       "</table>\n",
       "</div>"
      ],
      "text/plain": [
       "   industrial_risk  Management  Financial  Credibility  Competitive  \\\n",
       "0              0.5         1.0        0.0          0.0          0.0   \n",
       "1              0.0         1.0        0.0          0.0          0.0   \n",
       "2              1.0         0.0        0.0          0.0          0.0   \n",
       "3              0.5         0.0        0.0          0.5          0.0   \n",
       "4              1.0         1.0        0.0          0.0          0.0   \n",
       "\n",
       "   Operational  class  \n",
       "0          0.5      0  \n",
       "1          1.0      0  \n",
       "2          1.0      0  \n",
       "3          1.0      0  \n",
       "4          1.0      0  "
      ]
     },
     "execution_count": 51,
     "metadata": {},
     "output_type": "execute_result"
    }
   ],
   "source": [
    "df1.head()"
   ]
  },
  {
   "cell_type": "markdown",
   "id": "ae5f0f91",
   "metadata": {},
   "source": [
    "# PieChart"
   ]
  },
  {
   "cell_type": "code",
   "execution_count": 52,
   "id": "83a4acfd",
   "metadata": {},
   "outputs": [
    {
     "data": {
      "text/plain": [
       "<AxesSubplot:ylabel='class'>"
      ]
     },
     "execution_count": 52,
     "metadata": {},
     "output_type": "execute_result"
    },
    {
     "data": {
      "image/png": "[encoded data removed]",
      "text/plain": [
       "<Figure size 360x360 with 1 Axes>"
      ]
     },
     "metadata": {},
     "output_type": "display_data"
    },
    {
     "data": {
      "image/png": "[encoded data removed]",
      "text/plain": [
       "<Figure size 360x360 with 1 Axes>"
      ]
     },
     "metadata": {},
     "output_type": "display_data"
    },
    {
     "data": {
      "image/png": "[encoded data removed]",
      "text/plain": [
       "<Figure size 360x360 with 1 Axes>"
      ]
     },
     "metadata": {},
     "output_type": "display_data"
    },
    {
     "data": {
      "image/png": "[encoded data removed]",
      "text/plain": [
       "<Figure size 360x360 with 1 Axes>"
      ]
     },
     "metadata": {},
     "output_type": "display_data"
    },
    {
     "data": {
      "image/png": "[encoded data removed]",
      "text/plain": [
       "<Figure size 360x360 with 1 Axes>"
      ]
     },
     "metadata": {},
     "output_type": "display_data"
    },
    {
     "data": {
      "image/png": "[encoded data removed]",
      "text/plain": [
       "<Figure size 360x360 with 1 Axes>"
      ]
     },
     "metadata": {},
     "output_type": "display_data"
    },
    {
     "data": {
      "image/png": "[encoded data removed]",
      "text/plain": [
       "<Figure size 360x360 with 1 Axes>"
      ]
     },
     "metadata": {},
     "output_type": "display_data"
    }
   ],
   "source": [
    "plt.figure(figsize=(5,5))\n",
    "df1['industrial_risk'].value_counts().plot(kind='pie',autopct=lambda p:'{:.2f}%\\n({:.0f})'.format(p,(p/100)*(df1['industrial_risk'].value_counts().sum())))\n",
    "\n",
    "plt.figure(figsize=(5,5))\n",
    "df1['Management'].value_counts().plot(kind='pie',autopct=lambda p:'{:.2f}%\\n({:.0f})'.format(p,(p/100)*(df1['Management'].value_counts().sum())))\n",
    "\n",
    "plt.figure(figsize=(5,5))\n",
    "df1['Financial'].value_counts().plot(kind='pie',autopct=lambda p:'{:.2f}%\\n({:.0f})'.format(p,(p/100)*(df1['Financial'].value_counts().sum())))\n",
    "\n",
    "plt.figure(figsize=(5,5))\n",
    "df1['Credibility'].value_counts().plot(kind='pie',autopct=lambda p:'{:.2f}%\\n({:.0f})'.format(p,(p/100)*(df1['Credibility'].value_counts().sum())))\n",
    "\n",
    "plt.figure(figsize=(5,5))\n",
    "df1['Competitive'].value_counts().plot(kind='pie',autopct=lambda p:'{:.2f}%\\n({:.0f})'.format(p,(p/100)*(df1['Competitive'].value_counts().sum())))\n",
    "\n",
    "plt.figure(figsize=(5,5))\n",
    "df1['Operational'].value_counts().plot(kind='pie',autopct=lambda p:'{:.2f}%\\n({:.0f})'.format(p,(p/100)*(df1['Operational'].value_counts().sum())))\n",
    "\n",
    "plt.figure(figsize=(5,5))\n",
    "df1['class'].value_counts().plot(kind='pie',autopct=lambda p:'{:.2f}%\\n({:.0f})'.format(p,(p/100)*(df1['class'].value_counts().sum())))"
   ]
  },
  {
   "cell_type": "markdown",
   "id": "9a9fcbd0",
   "metadata": {},
   "source": [
    "# Finding the Skewness"
   ]
  },
  {
   "cell_type": "code",
   "execution_count": 53,
   "id": "ae7e0d4e",
   "metadata": {},
   "outputs": [
    {
     "data": {
      "image/png": "[encoded data removed]",
      "text/plain": [
       "<Figure size 432x288 with 1 Axes>"
      ]
     },
     "metadata": {
      "needs_background": "light"
     },
     "output_type": "display_data"
    },
    {
     "data": {
      "image/png": "[encoded data removed]",
      "text/plain": [
       "<Figure size 432x288 with 1 Axes>"
      ]
     },
     "metadata": {
      "needs_background": "light"
     },
     "output_type": "display_data"
    },
    {
     "data": {
      "image/png": "[encoded data removed]",
      "text/plain": [
       "<Figure size 432x288 with 1 Axes>"
      ]
     },
     "metadata": {
      "needs_background": "light"
     },
     "output_type": "display_data"
    },
    {
     "data": {
      "image/png": "[encoded data removed]",
      "text/plain": [
       "<Figure size 432x288 with 1 Axes>"
      ]
     },
     "metadata": {
      "needs_background": "light"
     },
     "output_type": "display_data"
    },
    {
     "data": {
      "image/png": "[encoded data removed]",
      "text/plain": [
       "<Figure size 432x288 with 1 Axes>"
      ]
     },
     "metadata": {
      "needs_background": "light"
     },
     "output_type": "display_data"
    },
    {
     "data": {
      "image/png": "[encoded data removed]",
      "text/plain": [
       "<Figure size 432x288 with 1 Axes>"
      ]
     },
     "metadata": {
      "needs_background": "light"
     },
     "output_type": "display_data"
    },
    {
     "data": {
      "image/png": "[encoded data removed]",
      "text/plain": [
       "<Figure size 432x288 with 1 Axes>"
      ]
     },
     "metadata": {
      "needs_background": "light"
     },
     "output_type": "display_data"
    }
   ],
   "source": [
    "features=[feature for feature in df1.columns if df1[feature].dtypes != 'O']\n",
    "for feat in features:\n",
    "    skew = df1[feat].skew()\n",
    "    sns.distplot(df1[feat], kde= False, label='Skew = %.3f' %(skew), bins=30)\n",
    "    plt.legend(loc='best')\n",
    "    plt.show()"
   ]
  },
  {
   "cell_type": "markdown",
   "id": "df55d649",
   "metadata": {},
   "source": [
    "# Using Countplot"
   ]
  },
  {
   "cell_type": "code",
   "execution_count": 54,
   "id": "24e72db0",
   "metadata": {},
   "outputs": [
    {
     "data": {
      "text/plain": [
       "<AxesSubplot:xlabel='industrial_risk', ylabel='count'>"
      ]
     },
     "execution_count": 54,
     "metadata": {},
     "output_type": "execute_result"
    },
    {
     "data": {
      "image/png": "[encoded data removed]",
      "text/plain": [
       "<Figure size 432x288 with 1 Axes>"
      ]
     },
     "metadata": {
      "needs_background": "light"
     },
     "output_type": "display_data"
    }
   ],
   "source": [
    "sns.countplot(df1['industrial_risk'],\n",
    "              hue=df1['class'])"
   ]
  },
  {
   "cell_type": "code",
   "execution_count": 55,
   "id": "b6e76f4d",
   "metadata": {},
   "outputs": [
    {
     "data": {
      "text/plain": [
       "<AxesSubplot:xlabel='Management', ylabel='count'>"
      ]
     },
     "execution_count": 55,
     "metadata": {},
     "output_type": "execute_result"
    },
    {
     "data": {
      "image/png": "[encoded data removed]",
      "text/plain": [
       "<Figure size 432x288 with 1 Axes>"
      ]
     },
     "metadata": {
      "needs_background": "light"
     },
     "output_type": "display_data"
    }
   ],
   "source": [
    "sns.countplot(df1['Management'],\n",
    "              hue=df1['class'])"
   ]
  },
  {
   "cell_type": "code",
   "execution_count": 56,
   "id": "ac271c46",
   "metadata": {},
   "outputs": [
    {
     "data": {
      "text/plain": [
       "<AxesSubplot:xlabel='Financial', ylabel='count'>"
      ]
     },
     "execution_count": 56,
     "metadata": {},
     "output_type": "execute_result"
    },
    {
     "data": {
      "image/png": "[encoded data removed]",
      "text/plain": [
       "<Figure size 432x288 with 1 Axes>"
      ]
     },
     "metadata": {
      "needs_background": "light"
     },
     "output_type": "display_data"
    }
   ],
   "source": [
    "sns.countplot(df1['Financial'],\n",
    "              hue=df1['class'])"
   ]
  },
  {
   "cell_type": "code",
   "execution_count": 57,
   "id": "b4704266",
   "metadata": {},
   "outputs": [
    {
     "data": {
      "text/plain": [
       "<AxesSubplot:xlabel='Credibility', ylabel='count'>"
      ]
     },
     "execution_count": 57,
     "metadata": {},
     "output_type": "execute_result"
    },
    {
     "data": {
      "image/png": "[encoded data removed]",
      "text/plain": [
       "<Figure size 432x288 with 1 Axes>"
      ]
     },
     "metadata": {
      "needs_background": "light"
     },
     "output_type": "display_data"
    }
   ],
   "source": [
    "sns.countplot(df1['Credibility'],\n",
    "              hue=df1['class'])"
   ]
  },
  {
   "cell_type": "code",
   "execution_count": 58,
   "id": "61f0aa99",
   "metadata": {},
   "outputs": [
    {
     "data": {
      "text/plain": [
       "<AxesSubplot:xlabel='Competitive', ylabel='count'>"
      ]
     },
     "execution_count": 58,
     "metadata": {},
     "output_type": "execute_result"
    },
    {
     "data": {
      "image/png": "[encoded data removed]",
      "text/plain": [
       "<Figure size 432x288 with 1 Axes>"
      ]
     },
     "metadata": {
      "needs_background": "light"
     },
     "output_type": "display_data"
    }
   ],
   "source": [
    "sns.countplot(df1['Competitive'],\n",
    "              hue=df1['class'])"
   ]
  },
  {
   "cell_type": "code",
   "execution_count": 59,
   "id": "1089b088",
   "metadata": {},
   "outputs": [
    {
     "data": {
      "text/plain": [
       "<AxesSubplot:xlabel='Operational', ylabel='count'>"
      ]
     },
     "execution_count": 59,
     "metadata": {},
     "output_type": "execute_result"
    },
    {
     "data": {
      "image/png": "[encoded data removed]",
      "text/plain": [
       "<Figure size 432x288 with 1 Axes>"
      ]
     },
     "metadata": {
      "needs_background": "light"
     },
     "output_type": "display_data"
    }
   ],
   "source": [
    "sns.countplot(df1['Operational'],\n",
    "              hue=df1['class'])"
   ]
  },
  {
   "cell_type": "markdown",
   "id": "c4ba6681",
   "metadata": {},
   "source": [
    "# Pairplot"
   ]
  },
  {
   "cell_type": "code",
   "execution_count": 60,
   "id": "f7043212",
   "metadata": {},
   "outputs": [
    {
     "data": {
      "text/plain": [
       "<Figure size 576x576 with 0 Axes>"
      ]
     },
     "metadata": {},
     "output_type": "display_data"
    },
    {
     "data": {
      "image/png": "[encoded data removed]",
      "text/plain": [
       "<Figure size 1260x1260 with 56 Axes>"
      ]
     },
     "metadata": {
      "needs_background": "light"
     },
     "output_type": "display_data"
    }
   ],
   "source": [
    "plt.figure(figsize=(8,8))\n",
    "sns.pairplot(df1, palette='coolwarm')\n",
    "plt.show()"
   ]
  },
  {
   "cell_type": "markdown",
   "id": "d5e33a90",
   "metadata": {},
   "source": [
    "# CoorRelation"
   ]
  },
  {
   "cell_type": "code",
   "execution_count": 61,
   "id": "4c765c49",
   "metadata": {},
   "outputs": [
    {
     "data": {
      "text/html": [
       "<div>\n",
       "<style scoped>\n",
       "    .dataframe tbody tr th:only-of-type {\n",
       "        vertical-align: middle;\n",
       "    }\n",
       "\n",
       "    .dataframe tbody tr th {\n",
       "        vertical-align: top;\n",
       "    }\n",
       "\n",
       "    .dataframe thead th {\n",
       "        text-align: right;\n",
       "    }\n",
       "</style>\n",
       "<table border=\"1\" class=\"dataframe\">\n",
       "  <thead>\n",
       "    <tr style=\"text-align: right;\">\n",
       "      <th></th>\n",
       "      <th>industrial_risk</th>\n",
       "      <th>Management</th>\n",
       "      <th>Financial</th>\n",
       "      <th>Credibility</th>\n",
       "      <th>Competitive</th>\n",
       "      <th>Operational</th>\n",
       "      <th>class</th>\n",
       "    </tr>\n",
       "  </thead>\n",
       "  <tbody>\n",
       "    <tr>\n",
       "      <th>industrial_risk</th>\n",
       "      <td>1.000000</td>\n",
       "      <td>0.255127</td>\n",
       "      <td>-0.162624</td>\n",
       "      <td>-0.014438</td>\n",
       "      <td>-0.257814</td>\n",
       "      <td>0.144507</td>\n",
       "      <td>-0.227823</td>\n",
       "    </tr>\n",
       "    <tr>\n",
       "      <th>Management</th>\n",
       "      <td>0.255127</td>\n",
       "      <td>1.000000</td>\n",
       "      <td>-0.254845</td>\n",
       "      <td>-0.303341</td>\n",
       "      <td>-0.306568</td>\n",
       "      <td>0.213874</td>\n",
       "      <td>-0.370838</td>\n",
       "    </tr>\n",
       "    <tr>\n",
       "      <th>Financial</th>\n",
       "      <td>-0.162624</td>\n",
       "      <td>-0.254845</td>\n",
       "      <td>1.000000</td>\n",
       "      <td>0.524951</td>\n",
       "      <td>0.686612</td>\n",
       "      <td>-0.116903</td>\n",
       "      <td>0.751020</td>\n",
       "    </tr>\n",
       "    <tr>\n",
       "      <th>Credibility</th>\n",
       "      <td>-0.014438</td>\n",
       "      <td>-0.303341</td>\n",
       "      <td>0.524951</td>\n",
       "      <td>1.000000</td>\n",
       "      <td>0.675689</td>\n",
       "      <td>-0.288458</td>\n",
       "      <td>0.755909</td>\n",
       "    </tr>\n",
       "    <tr>\n",
       "      <th>Competitive</th>\n",
       "      <td>-0.257814</td>\n",
       "      <td>-0.306568</td>\n",
       "      <td>0.686612</td>\n",
       "      <td>0.675689</td>\n",
       "      <td>1.000000</td>\n",
       "      <td>-0.211383</td>\n",
       "      <td>0.899452</td>\n",
       "    </tr>\n",
       "    <tr>\n",
       "      <th>Operational</th>\n",
       "      <td>0.144507</td>\n",
       "      <td>0.213874</td>\n",
       "      <td>-0.116903</td>\n",
       "      <td>-0.288458</td>\n",
       "      <td>-0.211383</td>\n",
       "      <td>1.000000</td>\n",
       "      <td>-0.279786</td>\n",
       "    </tr>\n",
       "    <tr>\n",
       "      <th>class</th>\n",
       "      <td>-0.227823</td>\n",
       "      <td>-0.370838</td>\n",
       "      <td>0.751020</td>\n",
       "      <td>0.755909</td>\n",
       "      <td>0.899452</td>\n",
       "      <td>-0.279786</td>\n",
       "      <td>1.000000</td>\n",
       "    </tr>\n",
       "  </tbody>\n",
       "</table>\n",
       "</div>"
      ],
      "text/plain": [
       "                 industrial_risk  Management  Financial  Credibility  \\\n",
       "industrial_risk         1.000000    0.255127  -0.162624    -0.014438   \n",
       "Management              0.255127    1.000000  -0.254845    -0.303341   \n",
       "Financial              -0.162624   -0.254845   1.000000     0.524951   \n",
       "Credibility            -0.014438   -0.303341   0.524951     1.000000   \n",
       "Competitive            -0.257814   -0.306568   0.686612     0.675689   \n",
       "Operational             0.144507    0.213874  -0.116903    -0.288458   \n",
       "class                  -0.227823   -0.370838   0.751020     0.755909   \n",
       "\n",
       "                 Competitive  Operational     class  \n",
       "industrial_risk    -0.257814     0.144507 -0.227823  \n",
       "Management         -0.306568     0.213874 -0.370838  \n",
       "Financial           0.686612    -0.116903  0.751020  \n",
       "Credibility         0.675689    -0.288458  0.755909  \n",
       "Competitive         1.000000    -0.211383  0.899452  \n",
       "Operational        -0.211383     1.000000 -0.279786  \n",
       "class               0.899452    -0.279786  1.000000  "
      ]
     },
     "execution_count": 61,
     "metadata": {},
     "output_type": "execute_result"
    }
   ],
   "source": [
    "df1.corr()"
   ]
  },
  {
   "cell_type": "code",
   "execution_count": 62,
   "id": "2706d55b",
   "metadata": {},
   "outputs": [
    {
     "data": {
      "text/plain": [
       "industrial_risk   -0.227823\n",
       "Management        -0.370838\n",
       "Financial          0.751020\n",
       "Credibility        0.755909\n",
       "Competitive        0.899452\n",
       "Operational       -0.279786\n",
       "class              1.000000\n",
       "Name: class, dtype: float64"
      ]
     },
     "execution_count": 62,
     "metadata": {},
     "output_type": "execute_result"
    }
   ],
   "source": [
    "df1.corr()['class']"
   ]
  },
  {
   "cell_type": "markdown",
   "id": "c992878a",
   "metadata": {},
   "source": [
    "# Heatmap"
   ]
  },
  {
   "cell_type": "code",
   "execution_count": 63,
   "id": "77fceffa",
   "metadata": {},
   "outputs": [
    {
     "data": {
      "text/plain": [
       "<AxesSubplot:>"
      ]
     },
     "execution_count": 63,
     "metadata": {},
     "output_type": "execute_result"
    },
    {
     "data": {
      "image/png": "[encoded data removed]",
      "text/plain": [
       "<Figure size 1080x504 with 2 Axes>"
      ]
     },
     "metadata": {
      "needs_background": "light"
     },
     "output_type": "display_data"
    }
   ],
   "source": [
    "plt.figure(figsize=(15,7))\n",
    "sns.heatmap(df1.corr(),annot=True,cmap='plasma')"
   ]
  },
  {
   "cell_type": "markdown",
   "id": "12d76652",
   "metadata": {},
   "source": [
    "# Observation  of correlation\n",
    "* To check the feature to featurs & Feature to target relation,have plotted pair plot but unfortunately it doesn't seen any  \n",
    "  linear connection between them.\n",
    "* We observed that there is some positive correalation between features like \"financial\", credibility & Competitive with class   variable/target variable.\n",
    "* financial & competitive have the maximum positive correlation of 0.69"
   ]
  },
  {
   "cell_type": "markdown",
   "id": "edb12ab3",
   "metadata": {},
   "source": [
    "# Model Building"
   ]
  },
  {
   "cell_type": "code",
   "execution_count": 64,
   "id": "c08325b5",
   "metadata": {},
   "outputs": [
    {
     "data": {
      "text/plain": [
       "Index(['industrial_risk', 'Management', 'Financial', 'Credibility',\n",
       "       'Competitive', 'Operational', 'class'],\n",
       "      dtype='object')"
      ]
     },
     "execution_count": 64,
     "metadata": {},
     "output_type": "execute_result"
    }
   ],
   "source": [
    "df1.columns"
   ]
  },
  {
   "cell_type": "code",
   "execution_count": 65,
   "id": "113391fa",
   "metadata": {},
   "outputs": [],
   "source": [
    "X = df1.drop('class',axis=1)\n",
    "Y = df1['class']"
   ]
  },
  {
   "cell_type": "code",
   "execution_count": 66,
   "id": "6fca4df2",
   "metadata": {},
   "outputs": [
    {
     "data": {
      "text/html": [
       "<div>\n",
       "<style scoped>\n",
       "    .dataframe tbody tr th:only-of-type {\n",
       "        vertical-align: middle;\n",
       "    }\n",
       "\n",
       "    .dataframe tbody tr th {\n",
       "        vertical-align: top;\n",
       "    }\n",
       "\n",
       "    .dataframe thead th {\n",
       "        text-align: right;\n",
       "    }\n",
       "</style>\n",
       "<table border=\"1\" class=\"dataframe\">\n",
       "  <thead>\n",
       "    <tr style=\"text-align: right;\">\n",
       "      <th></th>\n",
       "      <th>industrial_risk</th>\n",
       "      <th>Management</th>\n",
       "      <th>Financial</th>\n",
       "      <th>Credibility</th>\n",
       "      <th>Competitive</th>\n",
       "      <th>Operational</th>\n",
       "    </tr>\n",
       "  </thead>\n",
       "  <tbody>\n",
       "    <tr>\n",
       "      <th>0</th>\n",
       "      <td>0.5</td>\n",
       "      <td>1.0</td>\n",
       "      <td>0.0</td>\n",
       "      <td>0.0</td>\n",
       "      <td>0.0</td>\n",
       "      <td>0.5</td>\n",
       "    </tr>\n",
       "    <tr>\n",
       "      <th>1</th>\n",
       "      <td>0.0</td>\n",
       "      <td>1.0</td>\n",
       "      <td>0.0</td>\n",
       "      <td>0.0</td>\n",
       "      <td>0.0</td>\n",
       "      <td>1.0</td>\n",
       "    </tr>\n",
       "    <tr>\n",
       "      <th>2</th>\n",
       "      <td>1.0</td>\n",
       "      <td>0.0</td>\n",
       "      <td>0.0</td>\n",
       "      <td>0.0</td>\n",
       "      <td>0.0</td>\n",
       "      <td>1.0</td>\n",
       "    </tr>\n",
       "    <tr>\n",
       "      <th>3</th>\n",
       "      <td>0.5</td>\n",
       "      <td>0.0</td>\n",
       "      <td>0.0</td>\n",
       "      <td>0.5</td>\n",
       "      <td>0.0</td>\n",
       "      <td>1.0</td>\n",
       "    </tr>\n",
       "    <tr>\n",
       "      <th>4</th>\n",
       "      <td>1.0</td>\n",
       "      <td>1.0</td>\n",
       "      <td>0.0</td>\n",
       "      <td>0.0</td>\n",
       "      <td>0.0</td>\n",
       "      <td>1.0</td>\n",
       "    </tr>\n",
       "  </tbody>\n",
       "</table>\n",
       "</div>"
      ],
      "text/plain": [
       "   industrial_risk  Management  Financial  Credibility  Competitive  \\\n",
       "0              0.5         1.0        0.0          0.0          0.0   \n",
       "1              0.0         1.0        0.0          0.0          0.0   \n",
       "2              1.0         0.0        0.0          0.0          0.0   \n",
       "3              0.5         0.0        0.0          0.5          0.0   \n",
       "4              1.0         1.0        0.0          0.0          0.0   \n",
       "\n",
       "   Operational  \n",
       "0          0.5  \n",
       "1          1.0  \n",
       "2          1.0  \n",
       "3          1.0  \n",
       "4          1.0  "
      ]
     },
     "execution_count": 66,
     "metadata": {},
     "output_type": "execute_result"
    }
   ],
   "source": [
    "X.head()"
   ]
  },
  {
   "cell_type": "code",
   "execution_count": 67,
   "id": "01aa22c8",
   "metadata": {},
   "outputs": [
    {
     "data": {
      "text/plain": [
       "0    0\n",
       "1    0\n",
       "2    0\n",
       "3    0\n",
       "4    0\n",
       "Name: class, dtype: int32"
      ]
     },
     "execution_count": 67,
     "metadata": {},
     "output_type": "execute_result"
    }
   ],
   "source": [
    "Y.head()"
   ]
  },
  {
   "cell_type": "markdown",
   "id": "030d3605",
   "metadata": {},
   "source": [
    "# Split the data set into train & test"
   ]
  },
  {
   "cell_type": "code",
   "execution_count": 68,
   "id": "0824cd82",
   "metadata": {},
   "outputs": [],
   "source": [
    "from sklearn.model_selection import train_test_split\n",
    "\n",
    "X_train,X_test,Y_train,Y_test = train_test_split(X,Y,test_size = .25,random_state = 42)"
   ]
  },
  {
   "cell_type": "code",
   "execution_count": 69,
   "id": "b839632e",
   "metadata": {},
   "outputs": [
    {
     "data": {
      "text/plain": [
       "(187, 6)"
      ]
     },
     "execution_count": 69,
     "metadata": {},
     "output_type": "execute_result"
    }
   ],
   "source": [
    "X_train.shape\n"
   ]
  },
  {
   "cell_type": "code",
   "execution_count": 70,
   "id": "2e05dcd2",
   "metadata": {},
   "outputs": [
    {
     "data": {
      "text/plain": [
       "(63, 6)"
      ]
     },
     "execution_count": 70,
     "metadata": {},
     "output_type": "execute_result"
    }
   ],
   "source": [
    "X_test.shape"
   ]
  },
  {
   "cell_type": "code",
   "execution_count": 71,
   "id": "0a85ed9a",
   "metadata": {},
   "outputs": [
    {
     "data": {
      "text/plain": [
       "(187,)"
      ]
     },
     "execution_count": 71,
     "metadata": {},
     "output_type": "execute_result"
    }
   ],
   "source": [
    "Y_train.shape"
   ]
  },
  {
   "cell_type": "code",
   "execution_count": 72,
   "id": "78244557",
   "metadata": {},
   "outputs": [
    {
     "data": {
      "text/plain": [
       "(63,)"
      ]
     },
     "execution_count": 72,
     "metadata": {},
     "output_type": "execute_result"
    }
   ],
   "source": [
    "Y_test.shape"
   ]
  },
  {
   "cell_type": "markdown",
   "id": "70755719",
   "metadata": {},
   "source": [
    "# MODEL BUILDING"
   ]
  },
  {
   "cell_type": "markdown",
   "id": "224ca7a3",
   "metadata": {},
   "source": [
    "# Logistic Regression"
   ]
  },
  {
   "cell_type": "code",
   "execution_count": 73,
   "id": "6d2fad81",
   "metadata": {},
   "outputs": [],
   "source": [
    "from sklearn.linear_model import LogisticRegression\n",
    "Logistic = LogisticRegression()\n",
    "Logistic.fit(X_train,Y_train)\n",
    "Y_pred_train = Logistic.predict(X_train)\n",
    "Y_pred_test  = Logistic.predict(X_test)"
   ]
  },
  {
   "cell_type": "code",
   "execution_count": 74,
   "id": "409bd42b",
   "metadata": {},
   "outputs": [],
   "source": [
    "from sklearn.metrics import confusion_matrix\n",
    "train_cm1 = confusion_matrix(Y_train,Y_pred_train)\n",
    "test_cm1 = confusion_matrix(Y_test,Y_pred_test)\n"
   ]
  },
  {
   "cell_type": "code",
   "execution_count": 75,
   "id": "0e342f1c",
   "metadata": {},
   "outputs": [
    {
     "data": {
      "text/plain": [
       "array([[ 84,   1],\n",
       "       [  0, 102]], dtype=int64)"
      ]
     },
     "execution_count": 75,
     "metadata": {},
     "output_type": "execute_result"
    }
   ],
   "source": [
    "train_cm1"
   ]
  },
  {
   "cell_type": "code",
   "execution_count": 76,
   "id": "384dd82c",
   "metadata": {},
   "outputs": [
    {
     "data": {
      "text/plain": [
       "array([[22,  0],\n",
       "       [ 0, 41]], dtype=int64)"
      ]
     },
     "execution_count": 76,
     "metadata": {},
     "output_type": "execute_result"
    }
   ],
   "source": [
    "test_cm1"
   ]
  },
  {
   "cell_type": "code",
   "execution_count": 77,
   "id": "6c2f6cce",
   "metadata": {},
   "outputs": [],
   "source": [
    "from sklearn.metrics import accuracy_score,recall_score,precision_score,f1_score"
   ]
  },
  {
   "cell_type": "code",
   "execution_count": 78,
   "id": "ca2ed7d8",
   "metadata": {},
   "outputs": [
    {
     "data": {
      "text/plain": [
       "0.995"
      ]
     },
     "execution_count": 78,
     "metadata": {},
     "output_type": "execute_result"
    }
   ],
   "source": [
    "Accuracy_score_train_1 = accuracy_score(Y_train,Y_pred_train).round(3) # TN + TP / Total samples\n",
    "Accuracy_score_train_1\n"
   ]
  },
  {
   "cell_type": "code",
   "execution_count": 79,
   "id": "695b736f",
   "metadata": {},
   "outputs": [
    {
     "data": {
      "text/plain": [
       "1.0"
      ]
     },
     "execution_count": 79,
     "metadata": {},
     "output_type": "execute_result"
    }
   ],
   "source": [
    "Accuracy_score_test_1 = accuracy_score(Y_test,Y_pred_test).round(3)\n",
    "Accuracy_score_test_1"
   ]
  },
  {
   "cell_type": "code",
   "execution_count": 80,
   "id": "71775815",
   "metadata": {},
   "outputs": [
    {
     "data": {
      "text/plain": [
       "1.0"
      ]
     },
     "execution_count": 80,
     "metadata": {},
     "output_type": "execute_result"
    }
   ],
   "source": [
    "Sensitivity_score_train_1 = recall_score(Y_train,Y_pred_train).round(3) # TPR = TP / (TP + FN)\n",
    "Sensitivity_score_train_1"
   ]
  },
  {
   "cell_type": "code",
   "execution_count": 81,
   "id": "1db306a7",
   "metadata": {},
   "outputs": [
    {
     "data": {
      "text/plain": [
       "1.0"
      ]
     },
     "execution_count": 81,
     "metadata": {},
     "output_type": "execute_result"
    }
   ],
   "source": [
    "Sensitivity_score_test_1 = recall_score(Y_test,Y_pred_test).round(3)\n",
    "Sensitivity_score_test_1"
   ]
  },
  {
   "cell_type": "code",
   "execution_count": 82,
   "id": "94063726",
   "metadata": {},
   "outputs": [
    {
     "data": {
      "text/plain": [
       "0.99"
      ]
     },
     "execution_count": 82,
     "metadata": {},
     "output_type": "execute_result"
    }
   ],
   "source": [
    "Precision_score_train_1 = precision_score(Y_train,Y_pred_train).round(3) # TP / (TP + FP)\n",
    "Precision_score_train_1"
   ]
  },
  {
   "cell_type": "code",
   "execution_count": 83,
   "id": "ad4a7a28",
   "metadata": {},
   "outputs": [],
   "source": [
    "Precision_score_test_1 = precision_score(Y_test,Y_pred_test).round(3)"
   ]
  },
  {
   "cell_type": "code",
   "execution_count": 84,
   "id": "65d4df0b",
   "metadata": {},
   "outputs": [
    {
     "data": {
      "text/plain": [
       "0.995"
      ]
     },
     "execution_count": 84,
     "metadata": {},
     "output_type": "execute_result"
    }
   ],
   "source": [
    "F1_score_train_1=f1_score(Y_train,Y_pred_train).round(3) # (2 * PRECISION * RECALL) / (PRECISION + RECALL)\n",
    "F1_score_train_1"
   ]
  },
  {
   "cell_type": "code",
   "execution_count": 85,
   "id": "f1eda054",
   "metadata": {},
   "outputs": [
    {
     "data": {
      "text/plain": [
       "1.0"
      ]
     },
     "execution_count": 85,
     "metadata": {},
     "output_type": "execute_result"
    }
   ],
   "source": [
    "F1_score_test_1 = f1_score(Y_test,Y_pred_test).round(3)\n",
    "F1_score_test_1"
   ]
  },
  {
   "cell_type": "markdown",
   "id": "15655a8e",
   "metadata": {},
   "source": [
    "# ROC CURVE FOR TRAIN ACCURACY"
   ]
  },
  {
   "cell_type": "code",
   "execution_count": 86,
   "id": "fe23405f",
   "metadata": {},
   "outputs": [
    {
     "data": {
      "image/png": "[encoded data removed]",
      "text/plain": [
       "<Figure size 432x288 with 1 Axes>"
      ]
     },
     "metadata": {
      "needs_background": "light"
     },
     "output_type": "display_data"
    }
   ],
   "source": [
    "from sklearn.metrics import roc_curve\n",
    "import matplotlib.pyplot as plt\n",
    "\n",
    "fpr, tpr, thresholds = roc_curve(Y_train, Y_pred_train)\n",
    "\n",
    "plt.plot(fpr, tpr)\n",
    "plt.xlabel('False Positive Rate')\n",
    "plt.ylabel('True Positive Rate')\n",
    "plt.title('ROC Curve')\n",
    "plt.show()\n"
   ]
  },
  {
   "cell_type": "code",
   "execution_count": 87,
   "id": "59410570",
   "metadata": {},
   "outputs": [
    {
     "name": "stdout",
     "output_type": "stream",
     "text": [
      "AUC-ROC score: 0.9941176470588236\n"
     ]
    }
   ],
   "source": [
    "from sklearn.metrics import roc_auc_score\n",
    "\n",
    "auc_roc = roc_auc_score(Y_train, Y_pred_train)\n",
    "\n",
    "print('AUC-ROC score:', auc_roc)"
   ]
  },
  {
   "cell_type": "markdown",
   "id": "f0e19287",
   "metadata": {},
   "source": [
    "# ROC CURVE FOR TEST ACCURACY"
   ]
  },
  {
   "cell_type": "code",
   "execution_count": 88,
   "id": "d7ec0e3e",
   "metadata": {},
   "outputs": [
    {
     "data": {
      "image/png": "[encoded data removed]",
      "text/plain": [
       "<Figure size 432x288 with 1 Axes>"
      ]
     },
     "metadata": {
      "needs_background": "light"
     },
     "output_type": "display_data"
    }
   ],
   "source": [
    "from sklearn.metrics import roc_curve\n",
    "import matplotlib.pyplot as plt\n",
    "\n",
    "fpr, tpr, thresholds = roc_curve(Y_test, Y_pred_test)\n",
    "\n",
    "plt.plot(fpr, tpr)\n",
    "plt.xlabel('False Positive Rate')\n",
    "plt.ylabel('True Positive Rate')\n",
    "plt.title('ROC Curve')\n",
    "plt.show()\n"
   ]
  },
  {
   "cell_type": "code",
   "execution_count": 89,
   "id": "80a4d2e3",
   "metadata": {},
   "outputs": [
    {
     "name": "stdout",
     "output_type": "stream",
     "text": [
      "AUC-ROC score: 1.0\n"
     ]
    }
   ],
   "source": [
    "from sklearn.metrics import roc_auc_score\n",
    "\n",
    "# assuming you have true labels Y_test and predicted probabilities Y_pred_proba_test\n",
    "auc_roc = roc_auc_score(Y_test, Y_pred_test)\n",
    "\n",
    "print('AUC-ROC score:', auc_roc)"
   ]
  },
  {
   "cell_type": "markdown",
   "id": "2b18643e",
   "metadata": {},
   "source": [
    "# USING VIF VALUE FINDING THE MULTICOLLINEARITY"
   ]
  },
  {
   "cell_type": "code",
   "execution_count": 90,
   "id": "dcf1e83b",
   "metadata": {},
   "outputs": [],
   "source": [
    "import statsmodels.formula.api as smf\n"
   ]
  },
  {
   "cell_type": "code",
   "execution_count": 91,
   "id": "93834e0e",
   "metadata": {},
   "outputs": [
    {
     "data": {
      "text/html": [
       "<div>\n",
       "<style scoped>\n",
       "    .dataframe tbody tr th:only-of-type {\n",
       "        vertical-align: middle;\n",
       "    }\n",
       "\n",
       "    .dataframe tbody tr th {\n",
       "        vertical-align: top;\n",
       "    }\n",
       "\n",
       "    .dataframe thead th {\n",
       "        text-align: right;\n",
       "    }\n",
       "</style>\n",
       "<table border=\"1\" class=\"dataframe\">\n",
       "  <thead>\n",
       "    <tr style=\"text-align: right;\">\n",
       "      <th></th>\n",
       "      <th>Variables</th>\n",
       "      <th>VIF</th>\n",
       "    </tr>\n",
       "  </thead>\n",
       "  <tbody>\n",
       "    <tr>\n",
       "      <th>0</th>\n",
       "      <td>industrial_risk</td>\n",
       "      <td>1.208550</td>\n",
       "    </tr>\n",
       "    <tr>\n",
       "      <th>1</th>\n",
       "      <td>Management</td>\n",
       "      <td>1.205396</td>\n",
       "    </tr>\n",
       "    <tr>\n",
       "      <th>2</th>\n",
       "      <td>Financial</td>\n",
       "      <td>1.931439</td>\n",
       "    </tr>\n",
       "    <tr>\n",
       "      <th>3</th>\n",
       "      <td>Credibility</td>\n",
       "      <td>2.128103</td>\n",
       "    </tr>\n",
       "    <tr>\n",
       "      <th>4</th>\n",
       "      <td>Competitive</td>\n",
       "      <td>2.788219</td>\n",
       "    </tr>\n",
       "    <tr>\n",
       "      <th>5</th>\n",
       "      <td>Operational</td>\n",
       "      <td>1.134261</td>\n",
       "    </tr>\n",
       "  </tbody>\n",
       "</table>\n",
       "</div>"
      ],
      "text/plain": [
       "         Variables       VIF\n",
       "0  industrial_risk  1.208550\n",
       "1       Management  1.205396\n",
       "2        Financial  1.931439\n",
       "3      Credibility  2.128103\n",
       "4      Competitive  2.788219\n",
       "5      Operational  1.134261"
      ]
     },
     "execution_count": 91,
     "metadata": {},
     "output_type": "execute_result"
    }
   ],
   "source": [
    "import pandas as pd\n",
    "import statsmodels.formula.api as smf\n",
    "\n",
    "# Fit OLS models and calculate VIF\n",
    "industrial_risk = smf.ols('industrial_risk~Management+Financial+Credibility+Competitive+Operational',data=df1).fit()  \n",
    "vif_industrial_risk = 1/(1-industrial_risk.rsquared)\n",
    "\n",
    "Management = smf.ols('Management~industrial_risk+Financial+Credibility+Competitive+Operational',data=df1).fit()  \n",
    "vif_management = 1/(1-Management.rsquared)\n",
    "\n",
    "Financial = smf.ols('Financial~industrial_risk+Management+Credibility+Competitive+Operational',data=df1).fit()  \n",
    "vif_financial = 1/(1-Financial.rsquared)\n",
    "\n",
    "Credibility = smf.ols('Credibility~industrial_risk+Management+Financial+Competitive+Operational',data=df1).fit()  \n",
    "vif_Credibility = 1/(1-Credibility.rsquared)\n",
    "\n",
    "Competitive = smf.ols('Competitive~industrial_risk+Management+Financial+Credibility+Operational',data=df1).fit()  \n",
    "vif_Competitive = 1/(1-Competitive.rsquared)\n",
    "\n",
    "Operational = smf.ols('Operational~industrial_risk+Management+Financial+Credibility+Competitive',data=df1).fit()  \n",
    "vif_Operational = 1/(1-Operational.rsquared)\n",
    "\n",
    "# Storing VIF values in a data frame\n",
    "d = {'Variables':['industrial_risk','Management','Financial','Credibility','Competitive','Operational'],'VIF':[vif_industrial_risk,vif_management,vif_financial,vif_Credibility,vif_Competitive,vif_Operational]}\n",
    "Vif_frame = pd.DataFrame(d)  \n",
    "Vif_frame\n"
   ]
  },
  {
   "cell_type": "markdown",
   "id": "399500f6",
   "metadata": {},
   "source": [
    "# FINDING THE LOG LOSS"
   ]
  },
  {
   "cell_type": "code",
   "execution_count": 92,
   "id": "82de1e8d",
   "metadata": {},
   "outputs": [
    {
     "name": "stdout",
     "output_type": "stream",
     "text": [
      "Log loss for training set: 0.1847036149323051\n",
      "Log loss for test set: 9.992007221626415e-16\n"
     ]
    }
   ],
   "source": [
    "from sklearn.metrics import log_loss\n",
    "\n",
    "# assuming Y_train is the true labels of the training set and Y_pred_train is the predicted probabilities of the positive class\n",
    "log_loss_train = log_loss(Y_train, Y_pred_train)\n",
    "\n",
    "# assuming Y_test is the true labels of the test set and Y_pred_test is the predicted probabilities of the positive class\n",
    "log_loss_test = log_loss(Y_test, Y_pred_test)\n",
    "\n",
    "print('Log loss for training set:', log_loss_train)\n",
    "print('Log loss for test set:', log_loss_test)"
   ]
  },
  {
   "cell_type": "markdown",
   "id": "a56d3a8e",
   "metadata": {},
   "source": [
    "# k-nearest neighbors classifier"
   ]
  },
  {
   "cell_type": "code",
   "execution_count": 93,
   "id": "b0c3eb4a",
   "metadata": {},
   "outputs": [],
   "source": [
    "from sklearn.neighbors import KNeighborsClassifier\n",
    "\n",
    "KNN = KNeighborsClassifier(n_neighbors=5, p=2) # p=2 specifies the Euclidean distance metric\n",
    "KNN.fit(X_train, Y_train)\n",
    "Y_pred_train = KNN.predict(X_train)\n",
    "Y_pred_test = KNN.predict(X_test)"
   ]
  },
  {
   "cell_type": "code",
   "execution_count": 94,
   "id": "bc483ac4",
   "metadata": {},
   "outputs": [],
   "source": [
    "from sklearn.metrics import confusion_matrix\n",
    "train_cm2 = confusion_matrix(Y_train,Y_pred_train)\n",
    "test_cm2= confusion_matrix(Y_test,Y_pred_test)\n"
   ]
  },
  {
   "cell_type": "code",
   "execution_count": 95,
   "id": "84f94daa",
   "metadata": {},
   "outputs": [
    {
     "data": {
      "text/plain": [
       "array([[ 84,   1],\n",
       "       [  0, 102]], dtype=int64)"
      ]
     },
     "execution_count": 95,
     "metadata": {},
     "output_type": "execute_result"
    }
   ],
   "source": [
    "train_cm2"
   ]
  },
  {
   "cell_type": "code",
   "execution_count": 96,
   "id": "2a751b8b",
   "metadata": {},
   "outputs": [
    {
     "data": {
      "text/plain": [
       "array([[22,  0],\n",
       "       [ 1, 40]], dtype=int64)"
      ]
     },
     "execution_count": 96,
     "metadata": {},
     "output_type": "execute_result"
    }
   ],
   "source": [
    "test_cm2"
   ]
  },
  {
   "cell_type": "code",
   "execution_count": 97,
   "id": "9ed350d2",
   "metadata": {},
   "outputs": [],
   "source": [
    "from sklearn.metrics import accuracy_score,recall_score,precision_score,f1_score"
   ]
  },
  {
   "cell_type": "code",
   "execution_count": 98,
   "id": "ce9aa7d5",
   "metadata": {},
   "outputs": [
    {
     "data": {
      "text/plain": [
       "0.984"
      ]
     },
     "execution_count": 98,
     "metadata": {},
     "output_type": "execute_result"
    }
   ],
   "source": [
    "Accuracy_score_train_2 = accuracy_score(Y_train,Y_pred_train).round(3)\n",
    "Accuracy_score_train_2 = Accuracy_score_test_2 = accuracy_score(Y_test,Y_pred_test).round(3)\n",
    "Accuracy_score_test_2"
   ]
  },
  {
   "cell_type": "code",
   "execution_count": 99,
   "id": "e209bf36",
   "metadata": {},
   "outputs": [
    {
     "data": {
      "text/plain": [
       "0.984"
      ]
     },
     "execution_count": 99,
     "metadata": {},
     "output_type": "execute_result"
    }
   ],
   "source": [
    "Accuracy_score_test_2 = accuracy_score(Y_test,Y_pred_test).round(3)\n",
    "Accuracy_score_test_2"
   ]
  },
  {
   "cell_type": "code",
   "execution_count": 100,
   "id": "3592d7da",
   "metadata": {},
   "outputs": [
    {
     "data": {
      "text/plain": [
       "1.0"
      ]
     },
     "execution_count": 100,
     "metadata": {},
     "output_type": "execute_result"
    }
   ],
   "source": [
    "Sensitivity_score_train_2 = recall_score(Y_train,Y_pred_train).round(3)\n",
    "Sensitivity_score_train_2"
   ]
  },
  {
   "cell_type": "code",
   "execution_count": 101,
   "id": "976d8dde",
   "metadata": {},
   "outputs": [
    {
     "data": {
      "text/plain": [
       "0.976"
      ]
     },
     "execution_count": 101,
     "metadata": {},
     "output_type": "execute_result"
    }
   ],
   "source": [
    "Sensitivity_score_test_2 = recall_score(Y_test,Y_pred_test).round(3)\n",
    "Sensitivity_score_test_2"
   ]
  },
  {
   "cell_type": "code",
   "execution_count": 102,
   "id": "6cc658f1",
   "metadata": {},
   "outputs": [
    {
     "data": {
      "text/plain": [
       "0.99"
      ]
     },
     "execution_count": 102,
     "metadata": {},
     "output_type": "execute_result"
    }
   ],
   "source": [
    "Precision_score_train_2 = precision_score(Y_train,Y_pred_train).round(3)\n",
    "Precision_score_train_2"
   ]
  },
  {
   "cell_type": "code",
   "execution_count": 103,
   "id": "72e29c70",
   "metadata": {},
   "outputs": [
    {
     "data": {
      "text/plain": [
       "1.0"
      ]
     },
     "execution_count": 103,
     "metadata": {},
     "output_type": "execute_result"
    }
   ],
   "source": [
    "Precision_score_test_2 = precision_score(Y_test,Y_pred_test).round(3)\n",
    "Precision_score_test_2"
   ]
  },
  {
   "cell_type": "code",
   "execution_count": 104,
   "id": "32d39022",
   "metadata": {},
   "outputs": [
    {
     "data": {
      "text/plain": [
       "0.995"
      ]
     },
     "execution_count": 104,
     "metadata": {},
     "output_type": "execute_result"
    }
   ],
   "source": [
    "F1_score_train_2 = f1_score(Y_train,Y_pred_train).round(3)\n",
    "F1_score_train_2"
   ]
  },
  {
   "cell_type": "code",
   "execution_count": 105,
   "id": "a0e12a98",
   "metadata": {},
   "outputs": [
    {
     "data": {
      "text/plain": [
       "0.988"
      ]
     },
     "execution_count": 105,
     "metadata": {},
     "output_type": "execute_result"
    }
   ],
   "source": [
    "F1_score_test_2 = f1_score(Y_test,Y_pred_test).round(3)\n",
    "F1_score_test_2\n"
   ]
  },
  {
   "cell_type": "markdown",
   "id": "bafd2227",
   "metadata": {},
   "source": [
    "# Multinomial Naive Bayes classifier"
   ]
  },
  {
   "cell_type": "code",
   "execution_count": 106,
   "id": "3032bfec",
   "metadata": {},
   "outputs": [],
   "source": [
    "from sklearn.naive_bayes import MultinomialNB\n",
    "\n",
    "# Instantiate the MultinomialNB class\n",
    "NB = MultinomialNB()\n",
    "\n",
    "# Fit the model to the training data\n",
    "NB.fit(X_train, Y_train)\n",
    "\n",
    "# Make predictions on the training and test data\n",
    "Y_pred_train = NB.predict(X_train)\n",
    "Y_pred_test = NB.predict(X_test)"
   ]
  },
  {
   "cell_type": "code",
   "execution_count": 107,
   "id": "fcad3c91",
   "metadata": {},
   "outputs": [],
   "source": [
    "from sklearn.metrics import confusion_matrix\n",
    "train_cm3 = confusion_matrix(Y_train,Y_pred_train)\n",
    "test_cm3 = confusion_matrix(Y_test,Y_pred_test)"
   ]
  },
  {
   "cell_type": "code",
   "execution_count": 108,
   "id": "f8ab6bc1",
   "metadata": {},
   "outputs": [
    {
     "data": {
      "text/plain": [
       "array([[ 80,   5],\n",
       "       [  0, 102]], dtype=int64)"
      ]
     },
     "execution_count": 108,
     "metadata": {},
     "output_type": "execute_result"
    }
   ],
   "source": [
    "train_cm3"
   ]
  },
  {
   "cell_type": "code",
   "execution_count": 109,
   "id": "04d1aa5f",
   "metadata": {},
   "outputs": [
    {
     "data": {
      "text/plain": [
       "array([[22,  0],\n",
       "       [ 0, 41]], dtype=int64)"
      ]
     },
     "execution_count": 109,
     "metadata": {},
     "output_type": "execute_result"
    }
   ],
   "source": [
    "test_cm3"
   ]
  },
  {
   "cell_type": "code",
   "execution_count": 110,
   "id": "6b1e7c5d",
   "metadata": {},
   "outputs": [],
   "source": [
    "from sklearn.metrics import accuracy_score,recall_score,precision_score,f1_score"
   ]
  },
  {
   "cell_type": "code",
   "execution_count": 111,
   "id": "5d1b57ee",
   "metadata": {},
   "outputs": [
    {
     "data": {
      "text/plain": [
       "0.973"
      ]
     },
     "execution_count": 111,
     "metadata": {},
     "output_type": "execute_result"
    }
   ],
   "source": [
    "Accuracy_score_train_3 = accuracy_score(Y_train,Y_pred_train).round(3)\n",
    "Accuracy_score_train_3"
   ]
  },
  {
   "cell_type": "code",
   "execution_count": 112,
   "id": "572cc003",
   "metadata": {},
   "outputs": [
    {
     "data": {
      "text/plain": [
       "1.0"
      ]
     },
     "execution_count": 112,
     "metadata": {},
     "output_type": "execute_result"
    }
   ],
   "source": [
    "Accuracy_score_test_3 = accuracy_score(Y_test,Y_pred_test).round(3)\n",
    "Accuracy_score_test_3"
   ]
  },
  {
   "cell_type": "code",
   "execution_count": 113,
   "id": "a846d8b7",
   "metadata": {},
   "outputs": [
    {
     "data": {
      "text/plain": [
       "1.0"
      ]
     },
     "execution_count": 113,
     "metadata": {},
     "output_type": "execute_result"
    }
   ],
   "source": [
    "Sensitivity_score_train_3 = recall_score(Y_train,Y_pred_train).round(3)\n",
    "Sensitivity_score_train_3"
   ]
  },
  {
   "cell_type": "code",
   "execution_count": 114,
   "id": "806ec241",
   "metadata": {},
   "outputs": [
    {
     "data": {
      "text/plain": [
       "1.0"
      ]
     },
     "execution_count": 114,
     "metadata": {},
     "output_type": "execute_result"
    }
   ],
   "source": [
    "Sensitivity_score_test_3 = recall_score(Y_test,Y_pred_test).round(3)\n",
    "Sensitivity_score_test_3"
   ]
  },
  {
   "cell_type": "code",
   "execution_count": 115,
   "id": "af36c654",
   "metadata": {},
   "outputs": [
    {
     "data": {
      "text/plain": [
       "0.953"
      ]
     },
     "execution_count": 115,
     "metadata": {},
     "output_type": "execute_result"
    }
   ],
   "source": [
    "Precision_score_train_3 = precision_score(Y_train,Y_pred_train).round(3)\n",
    "Precision_score_train_3"
   ]
  },
  {
   "cell_type": "code",
   "execution_count": 116,
   "id": "f49dab39",
   "metadata": {},
   "outputs": [
    {
     "data": {
      "text/plain": [
       "1.0"
      ]
     },
     "execution_count": 116,
     "metadata": {},
     "output_type": "execute_result"
    }
   ],
   "source": [
    "Precision_score_test_3 = precision_score(Y_test,Y_pred_test).round(3)\n",
    "Precision_score_test_3"
   ]
  },
  {
   "cell_type": "code",
   "execution_count": 117,
   "id": "c1264bc3",
   "metadata": {},
   "outputs": [
    {
     "data": {
      "text/plain": [
       "0.976"
      ]
     },
     "execution_count": 117,
     "metadata": {},
     "output_type": "execute_result"
    }
   ],
   "source": [
    "F1_score_train_3 = f1_score(Y_train,Y_pred_train).round(3)\n",
    "F1_score_train_3"
   ]
  },
  {
   "cell_type": "code",
   "execution_count": 118,
   "id": "923c613b",
   "metadata": {},
   "outputs": [
    {
     "data": {
      "text/plain": [
       "1.0"
      ]
     },
     "execution_count": 118,
     "metadata": {},
     "output_type": "execute_result"
    }
   ],
   "source": [
    "F1_score_test_3 = f1_score(Y_test,Y_pred_test).round(3)\n",
    "F1_score_test_3"
   ]
  },
  {
   "cell_type": "markdown",
   "id": "7fae2bc7",
   "metadata": {},
   "source": [
    "# SUPPORT VECTOR MACHINE USING POLYNOMIAL FUNCTION"
   ]
  },
  {
   "cell_type": "code",
   "execution_count": 119,
   "id": "40901845",
   "metadata": {},
   "outputs": [],
   "source": [
    "from sklearn.svm import SVC\n",
    "\n",
    "svc = SVC(kernel = 'poly', degree = 2) \n",
    "svc.fit(X_train, Y_train)\n",
    "Y_pred_train = svc.predict(X_train)\n",
    "Y_pred_test = svc.predict(X_test)"
   ]
  },
  {
   "cell_type": "code",
   "execution_count": 120,
   "id": "3fc37214",
   "metadata": {},
   "outputs": [],
   "source": [
    "from sklearn.metrics import confusion_matrix\n",
    "train_cm4 = confusion_matrix(Y_train,Y_pred_train)\n",
    "test_cm4 = confusion_matrix(Y_test,Y_pred_test)"
   ]
  },
  {
   "cell_type": "code",
   "execution_count": 121,
   "id": "96da7666",
   "metadata": {},
   "outputs": [
    {
     "data": {
      "text/plain": [
       "array([[ 85,   0],\n",
       "       [  0, 102]], dtype=int64)"
      ]
     },
     "execution_count": 121,
     "metadata": {},
     "output_type": "execute_result"
    }
   ],
   "source": [
    "train_cm4"
   ]
  },
  {
   "cell_type": "code",
   "execution_count": 122,
   "id": "3a2815b0",
   "metadata": {},
   "outputs": [
    {
     "data": {
      "text/plain": [
       "array([[22,  0],\n",
       "       [ 1, 40]], dtype=int64)"
      ]
     },
     "execution_count": 122,
     "metadata": {},
     "output_type": "execute_result"
    }
   ],
   "source": [
    "test_cm4"
   ]
  },
  {
   "cell_type": "code",
   "execution_count": 123,
   "id": "1065fd14",
   "metadata": {},
   "outputs": [],
   "source": [
    "from sklearn.metrics import accuracy_score,recall_score,precision_score,f1_score"
   ]
  },
  {
   "cell_type": "code",
   "execution_count": 124,
   "id": "9c09e919",
   "metadata": {},
   "outputs": [
    {
     "data": {
      "text/plain": [
       "1.0"
      ]
     },
     "execution_count": 124,
     "metadata": {},
     "output_type": "execute_result"
    }
   ],
   "source": [
    "Accuracy_score_train_4 = accuracy_score(Y_train,Y_pred_train).round(3)\n",
    "Accuracy_score_train_4"
   ]
  },
  {
   "cell_type": "code",
   "execution_count": 125,
   "id": "bab3f400",
   "metadata": {},
   "outputs": [
    {
     "data": {
      "text/plain": [
       "0.984"
      ]
     },
     "execution_count": 125,
     "metadata": {},
     "output_type": "execute_result"
    }
   ],
   "source": [
    "Accuracy_score_test_4 = accuracy_score(Y_test,Y_pred_test).round(3)\n",
    "Accuracy_score_test_4"
   ]
  },
  {
   "cell_type": "code",
   "execution_count": 126,
   "id": "0b58f9a9",
   "metadata": {},
   "outputs": [
    {
     "data": {
      "text/plain": [
       "1.0"
      ]
     },
     "execution_count": 126,
     "metadata": {},
     "output_type": "execute_result"
    }
   ],
   "source": [
    "Sensitivity_score_train_4 = recall_score(Y_train,Y_pred_train).round(3)\n",
    "Sensitivity_score_train_4"
   ]
  },
  {
   "cell_type": "code",
   "execution_count": 127,
   "id": "b662dd42",
   "metadata": {},
   "outputs": [
    {
     "data": {
      "text/plain": [
       "0.976"
      ]
     },
     "execution_count": 127,
     "metadata": {},
     "output_type": "execute_result"
    }
   ],
   "source": [
    "Sensitivity_score_test_4 = recall_score(Y_test,Y_pred_test).round(3)\n",
    "Sensitivity_score_test_4"
   ]
  },
  {
   "cell_type": "code",
   "execution_count": 128,
   "id": "c8351090",
   "metadata": {},
   "outputs": [
    {
     "data": {
      "text/plain": [
       "1.0"
      ]
     },
     "execution_count": 128,
     "metadata": {},
     "output_type": "execute_result"
    }
   ],
   "source": [
    "Precision_score_train_4 = precision_score(Y_train,Y_pred_train).round(3)\n",
    "Precision_score_train_4"
   ]
  },
  {
   "cell_type": "code",
   "execution_count": 129,
   "id": "e2fe0af2",
   "metadata": {},
   "outputs": [
    {
     "data": {
      "text/plain": [
       "1.0"
      ]
     },
     "execution_count": 129,
     "metadata": {},
     "output_type": "execute_result"
    }
   ],
   "source": [
    "Precision_score_test_4 = precision_score(Y_test,Y_pred_test).round(3)\n",
    "Precision_score_test_4"
   ]
  },
  {
   "cell_type": "code",
   "execution_count": 130,
   "id": "6b8f284f",
   "metadata": {},
   "outputs": [
    {
     "data": {
      "text/plain": [
       "1.0"
      ]
     },
     "execution_count": 130,
     "metadata": {},
     "output_type": "execute_result"
    }
   ],
   "source": [
    "F1_score_train_4 = f1_score(Y_train,Y_pred_train).round(3)\n",
    "F1_score_train_4"
   ]
  },
  {
   "cell_type": "code",
   "execution_count": 131,
   "id": "84a1b75c",
   "metadata": {},
   "outputs": [
    {
     "data": {
      "text/plain": [
       "0.988"
      ]
     },
     "execution_count": 131,
     "metadata": {},
     "output_type": "execute_result"
    }
   ],
   "source": [
    "F1_score_test_4 = f1_score(Y_test,Y_pred_test).round(3)\n",
    "F1_score_test_4\n"
   ]
  },
  {
   "cell_type": "code",
   "execution_count": null,
   "id": "b8c30a21",
   "metadata": {},
   "outputs": [],
   "source": []
  },
  {
   "cell_type": "markdown",
   "id": "7d20c329",
   "metadata": {},
   "source": [
    "# SUPPORT VECTOR MACHINE USING LINEAR FUNCTION"
   ]
  },
  {
   "cell_type": "code",
   "execution_count": 132,
   "id": "0f30804b",
   "metadata": {},
   "outputs": [],
   "source": [
    "from sklearn.svm import SVC\n",
    "\n",
    "svc = SVC(kernel = 'linear', C = 5.0) \n",
    "svc.fit(X_train, Y_train)\n",
    "Y_pred_train = svc.predict(X_train)\n",
    "Y_pred_test = svc.predict(X_test)"
   ]
  },
  {
   "cell_type": "code",
   "execution_count": 133,
   "id": "cbef2883",
   "metadata": {},
   "outputs": [],
   "source": [
    "from sklearn.metrics import confusion_matrix\n",
    "train_cm5 = confusion_matrix(Y_train,Y_pred_train)\n",
    "test_cm5 = confusion_matrix(Y_test,Y_pred_test)"
   ]
  },
  {
   "cell_type": "code",
   "execution_count": 134,
   "id": "c37d6920",
   "metadata": {},
   "outputs": [
    {
     "data": {
      "text/plain": [
       "array([[ 85,   0],\n",
       "       [  0, 102]], dtype=int64)"
      ]
     },
     "execution_count": 134,
     "metadata": {},
     "output_type": "execute_result"
    }
   ],
   "source": [
    "train_cm5"
   ]
  },
  {
   "cell_type": "code",
   "execution_count": 135,
   "id": "5df4277c",
   "metadata": {},
   "outputs": [
    {
     "data": {
      "text/plain": [
       "array([[22,  0],\n",
       "       [ 1, 40]], dtype=int64)"
      ]
     },
     "execution_count": 135,
     "metadata": {},
     "output_type": "execute_result"
    }
   ],
   "source": [
    "test_cm5"
   ]
  },
  {
   "cell_type": "code",
   "execution_count": 136,
   "id": "a6647b45",
   "metadata": {},
   "outputs": [],
   "source": [
    "from sklearn.metrics import accuracy_score,recall_score,precision_score,f1_score"
   ]
  },
  {
   "cell_type": "code",
   "execution_count": 137,
   "id": "5624e72c",
   "metadata": {},
   "outputs": [
    {
     "data": {
      "text/plain": [
       "1.0"
      ]
     },
     "execution_count": 137,
     "metadata": {},
     "output_type": "execute_result"
    }
   ],
   "source": [
    "Accuracy_score_train_5 = accuracy_score(Y_train,Y_pred_train).round(3)\n",
    "Accuracy_score_train_5"
   ]
  },
  {
   "cell_type": "code",
   "execution_count": 138,
   "id": "8348c1d0",
   "metadata": {},
   "outputs": [
    {
     "data": {
      "text/plain": [
       "0.984"
      ]
     },
     "execution_count": 138,
     "metadata": {},
     "output_type": "execute_result"
    }
   ],
   "source": [
    "Accuracy_score_test_5 = accuracy_score(Y_test,Y_pred_test).round(3)\n",
    "Accuracy_score_test_5"
   ]
  },
  {
   "cell_type": "code",
   "execution_count": 139,
   "id": "f7dae693",
   "metadata": {},
   "outputs": [
    {
     "data": {
      "text/plain": [
       "1.0"
      ]
     },
     "execution_count": 139,
     "metadata": {},
     "output_type": "execute_result"
    }
   ],
   "source": [
    "Sensitivity_score_train_5 = recall_score(Y_train,Y_pred_train).round(3)\n",
    "Sensitivity_score_train_5"
   ]
  },
  {
   "cell_type": "code",
   "execution_count": 140,
   "id": "42db02ad",
   "metadata": {},
   "outputs": [
    {
     "data": {
      "text/plain": [
       "0.976"
      ]
     },
     "execution_count": 140,
     "metadata": {},
     "output_type": "execute_result"
    }
   ],
   "source": [
    "Sensitivity_score_test_5 = recall_score(Y_test,Y_pred_test).round(3)\n",
    "Sensitivity_score_test_5"
   ]
  },
  {
   "cell_type": "code",
   "execution_count": 141,
   "id": "663cd2fa",
   "metadata": {},
   "outputs": [
    {
     "data": {
      "text/plain": [
       "1.0"
      ]
     },
     "execution_count": 141,
     "metadata": {},
     "output_type": "execute_result"
    }
   ],
   "source": [
    "Precision_score_train_5 = precision_score(Y_train,Y_pred_train).round(3)\n",
    "Precision_score_train_5"
   ]
  },
  {
   "cell_type": "code",
   "execution_count": 142,
   "id": "ff2b0a86",
   "metadata": {},
   "outputs": [
    {
     "data": {
      "text/plain": [
       "1.0"
      ]
     },
     "execution_count": 142,
     "metadata": {},
     "output_type": "execute_result"
    }
   ],
   "source": [
    "Precision_score_test_5 = precision_score(Y_test,Y_pred_test).round(3)\n",
    "Precision_score_test_5"
   ]
  },
  {
   "cell_type": "code",
   "execution_count": 143,
   "id": "ad29fed5",
   "metadata": {},
   "outputs": [
    {
     "data": {
      "text/plain": [
       "1.0"
      ]
     },
     "execution_count": 143,
     "metadata": {},
     "output_type": "execute_result"
    }
   ],
   "source": [
    "F1_score_train_5 = f1_score(Y_train,Y_pred_train).round(3)\n",
    "F1_score_train_5"
   ]
  },
  {
   "cell_type": "code",
   "execution_count": 144,
   "id": "ca4d7ad1",
   "metadata": {},
   "outputs": [
    {
     "data": {
      "text/plain": [
       "0.988"
      ]
     },
     "execution_count": 144,
     "metadata": {},
     "output_type": "execute_result"
    }
   ],
   "source": [
    "F1_score_test_5 = f1_score(Y_test,Y_pred_test).round(3)\n",
    "F1_score_test_5"
   ]
  },
  {
   "cell_type": "code",
   "execution_count": null,
   "id": "2cb9e0dd",
   "metadata": {},
   "outputs": [],
   "source": []
  },
  {
   "cell_type": "markdown",
   "id": "3393d585",
   "metadata": {},
   "source": [
    "# DECISION TREE USING GINI_INDRX"
   ]
  },
  {
   "cell_type": "code",
   "execution_count": 145,
   "id": "668f34ad",
   "metadata": {},
   "outputs": [],
   "source": [
    "from sklearn.tree import DecisionTreeClassifier\n",
    "\n",
    "classifier = DecisionTreeClassifier(criterion='gini',max_depth=None)\n",
    "\n",
    "classifier.fit(X , Y)\n",
    "\n",
    "Y_pred_train = classifier.predict(X_train)\n",
    "\n",
    "Y_pred_test = classifier.predict(X_test)\n",
    "\n",
    "\n",
    "\n"
   ]
  },
  {
   "cell_type": "code",
   "execution_count": 146,
   "id": "2aecc7c5",
   "metadata": {},
   "outputs": [],
   "source": [
    "from sklearn.metrics import confusion_matrix\n",
    "train_cm6 = confusion_matrix(Y_train,Y_pred_train)\n",
    "test_cm6 = confusion_matrix(Y_test,Y_pred_test)"
   ]
  },
  {
   "cell_type": "code",
   "execution_count": 147,
   "id": "055d579c",
   "metadata": {},
   "outputs": [
    {
     "data": {
      "text/plain": [
       "array([[ 85,   0],\n",
       "       [  0, 102]], dtype=int64)"
      ]
     },
     "execution_count": 147,
     "metadata": {},
     "output_type": "execute_result"
    }
   ],
   "source": [
    "train_cm6"
   ]
  },
  {
   "cell_type": "code",
   "execution_count": 148,
   "id": "020cd222",
   "metadata": {},
   "outputs": [
    {
     "data": {
      "text/plain": [
       "array([[22,  0],\n",
       "       [ 0, 41]], dtype=int64)"
      ]
     },
     "execution_count": 148,
     "metadata": {},
     "output_type": "execute_result"
    }
   ],
   "source": [
    "test_cm6"
   ]
  },
  {
   "cell_type": "code",
   "execution_count": 149,
   "id": "faf31283",
   "metadata": {},
   "outputs": [],
   "source": [
    "from sklearn.metrics import accuracy_score,recall_score,precision_score,f1_score"
   ]
  },
  {
   "cell_type": "code",
   "execution_count": 150,
   "id": "cc9ec06a",
   "metadata": {},
   "outputs": [
    {
     "data": {
      "text/plain": [
       "1.0"
      ]
     },
     "execution_count": 150,
     "metadata": {},
     "output_type": "execute_result"
    }
   ],
   "source": [
    "Accuracy_score_train_6 = accuracy_score(Y_train,Y_pred_train).round(3)\n",
    "Accuracy_score_train_6"
   ]
  },
  {
   "cell_type": "code",
   "execution_count": 151,
   "id": "ee25414c",
   "metadata": {},
   "outputs": [
    {
     "data": {
      "text/plain": [
       "1.0"
      ]
     },
     "execution_count": 151,
     "metadata": {},
     "output_type": "execute_result"
    }
   ],
   "source": [
    "Accuracy_score_test_6 = accuracy_score(Y_test,Y_pred_test).round(3)\n",
    "Accuracy_score_test_6"
   ]
  },
  {
   "cell_type": "code",
   "execution_count": 152,
   "id": "6ab68ca0",
   "metadata": {},
   "outputs": [
    {
     "data": {
      "text/plain": [
       "1.0"
      ]
     },
     "execution_count": 152,
     "metadata": {},
     "output_type": "execute_result"
    }
   ],
   "source": [
    "Sensitivity_score_train_6 = recall_score(Y_train,Y_pred_train).round(3)\n",
    "Sensitivity_score_train_6"
   ]
  },
  {
   "cell_type": "code",
   "execution_count": 153,
   "id": "1d146651",
   "metadata": {},
   "outputs": [
    {
     "data": {
      "text/plain": [
       "1.0"
      ]
     },
     "execution_count": 153,
     "metadata": {},
     "output_type": "execute_result"
    }
   ],
   "source": [
    "Sensitivity_score_test_6 = recall_score(Y_test,Y_pred_test).round(3)\n",
    "Sensitivity_score_test_6"
   ]
  },
  {
   "cell_type": "code",
   "execution_count": 154,
   "id": "8945fa74",
   "metadata": {},
   "outputs": [
    {
     "data": {
      "text/plain": [
       "1.0"
      ]
     },
     "execution_count": 154,
     "metadata": {},
     "output_type": "execute_result"
    }
   ],
   "source": [
    "Precision_score_train_6 = precision_score(Y_train,Y_pred_train).round(3)\n",
    "Precision_score_train_6"
   ]
  },
  {
   "cell_type": "code",
   "execution_count": 155,
   "id": "b04ad111",
   "metadata": {},
   "outputs": [
    {
     "data": {
      "text/plain": [
       "1.0"
      ]
     },
     "execution_count": 155,
     "metadata": {},
     "output_type": "execute_result"
    }
   ],
   "source": [
    "Precision_score_test_6 = precision_score(Y_test,Y_pred_test).round(3)\n",
    "Precision_score_test_6"
   ]
  },
  {
   "cell_type": "code",
   "execution_count": 156,
   "id": "43c158dc",
   "metadata": {},
   "outputs": [
    {
     "data": {
      "text/plain": [
       "1.0"
      ]
     },
     "execution_count": 156,
     "metadata": {},
     "output_type": "execute_result"
    }
   ],
   "source": [
    "F1_score_train_6 = f1_score(Y_train,Y_pred_train).round(3)\n",
    "F1_score_train_6"
   ]
  },
  {
   "cell_type": "code",
   "execution_count": 157,
   "id": "60110dbb",
   "metadata": {},
   "outputs": [
    {
     "data": {
      "text/plain": [
       "1.0"
      ]
     },
     "execution_count": 157,
     "metadata": {},
     "output_type": "execute_result"
    }
   ],
   "source": [
    "F1_score_test_6 = f1_score(Y_test,Y_pred_test).round(3)\n",
    "F1_score_test_6"
   ]
  },
  {
   "cell_type": "code",
   "execution_count": 158,
   "id": "4d694faa",
   "metadata": {},
   "outputs": [
    {
     "data": {
      "text/plain": [
       "'from sklearn import tree\\nimport graphviz\\n\\n#Define classifier and train it\\nclassifier = tree.DecisionTreeClassifier()\\n\\nclassifier.fit(X_train, Y_train)\\n\\n#Export the decision tree to a Graphviz-compatible format\\ndata = tree.export_graphviz(classifier, out_file=None, filled=True, rounded=True, special_characters=True)\\n\\n#Create a visual representation of the decision tree using Graphviz\\ngraph = graphviz.Source(data)\\ngraph.render(\"decision_tree\")  # Save the visualization to a PDF file\\n\\ngraph'"
      ]
     },
     "execution_count": 158,
     "metadata": {},
     "output_type": "execute_result"
    }
   ],
   "source": [
    "'''from sklearn import tree\n",
    "import graphviz\n",
    "\n",
    "#Define classifier and train it\n",
    "classifier = tree.DecisionTreeClassifier()\n",
    "\n",
    "classifier.fit(X_train, Y_train)\n",
    "\n",
    "#Export the decision tree to a Graphviz-compatible format\n",
    "data = tree.export_graphviz(classifier, out_file=None, filled=True, rounded=True, special_characters=True)\n",
    "\n",
    "#Create a visual representation of the decision tree using Graphviz\n",
    "graph = graphviz.Source(data)\n",
    "graph.render(\"decision_tree\")  # Save the visualization to a PDF file\n",
    "\n",
    "graph'''\n"
   ]
  },
  {
   "cell_type": "markdown",
   "id": "4695c9c9",
   "metadata": {},
   "source": [
    "# DECISION TREE USING ENTROPY"
   ]
  },
  {
   "cell_type": "code",
   "execution_count": 159,
   "id": "ae9d5930",
   "metadata": {},
   "outputs": [],
   "source": [
    "from sklearn.tree import DecisionTreeClassifier\n",
    "\n",
    "classifier = DecisionTreeClassifier(criterion='entropy',max_depth=None)\n",
    "\n",
    "classifier.fit(X , Y)\n",
    "\n",
    "Y_pred_train = classifier.predict(X_train)\n",
    "\n",
    "Y_pred_test = classifier.predict(X_test)\n"
   ]
  },
  {
   "cell_type": "code",
   "execution_count": 160,
   "id": "9f8a1b3b",
   "metadata": {},
   "outputs": [],
   "source": [
    "from sklearn.metrics import confusion_matrix\n",
    "train_cm7 = confusion_matrix(Y_train,Y_pred_train)\n",
    "test_cm7 = confusion_matrix(Y_test,Y_pred_test)"
   ]
  },
  {
   "cell_type": "code",
   "execution_count": 161,
   "id": "88b086e8",
   "metadata": {},
   "outputs": [
    {
     "data": {
      "text/plain": [
       "array([[ 85,   0],\n",
       "       [  0, 102]], dtype=int64)"
      ]
     },
     "execution_count": 161,
     "metadata": {},
     "output_type": "execute_result"
    }
   ],
   "source": [
    "train_cm7"
   ]
  },
  {
   "cell_type": "code",
   "execution_count": 162,
   "id": "1a73fd15",
   "metadata": {},
   "outputs": [
    {
     "data": {
      "text/plain": [
       "array([[22,  0],\n",
       "       [ 0, 41]], dtype=int64)"
      ]
     },
     "execution_count": 162,
     "metadata": {},
     "output_type": "execute_result"
    }
   ],
   "source": [
    "test_cm7"
   ]
  },
  {
   "cell_type": "code",
   "execution_count": 163,
   "id": "7864315d",
   "metadata": {},
   "outputs": [],
   "source": [
    "from sklearn.metrics import accuracy_score,recall_score,precision_score,f1_score"
   ]
  },
  {
   "cell_type": "code",
   "execution_count": 164,
   "id": "704e3316",
   "metadata": {},
   "outputs": [
    {
     "data": {
      "text/plain": [
       "1.0"
      ]
     },
     "execution_count": 164,
     "metadata": {},
     "output_type": "execute_result"
    }
   ],
   "source": [
    "Accuracy_score_train_7 = accuracy_score(Y_train,Y_pred_train).round(3)\n",
    "Accuracy_score_train_7"
   ]
  },
  {
   "cell_type": "code",
   "execution_count": 165,
   "id": "927d3361",
   "metadata": {},
   "outputs": [
    {
     "data": {
      "text/plain": [
       "1.0"
      ]
     },
     "execution_count": 165,
     "metadata": {},
     "output_type": "execute_result"
    }
   ],
   "source": [
    "Accuracy_score_test_7 = accuracy_score(Y_test,Y_pred_test).round(3)\n",
    "Accuracy_score_test_7"
   ]
  },
  {
   "cell_type": "code",
   "execution_count": 166,
   "id": "d532c35e",
   "metadata": {},
   "outputs": [
    {
     "data": {
      "text/plain": [
       "1.0"
      ]
     },
     "execution_count": 166,
     "metadata": {},
     "output_type": "execute_result"
    }
   ],
   "source": [
    "Sensitivity_score_train_7 = recall_score(Y_train,Y_pred_train).round(3)\n",
    "Sensitivity_score_train_7"
   ]
  },
  {
   "cell_type": "code",
   "execution_count": 167,
   "id": "f980c832",
   "metadata": {},
   "outputs": [
    {
     "data": {
      "text/plain": [
       "1.0"
      ]
     },
     "execution_count": 167,
     "metadata": {},
     "output_type": "execute_result"
    }
   ],
   "source": [
    "Sensitivity_score_test_7 = recall_score(Y_test,Y_pred_test).round(3)\n",
    "Sensitivity_score_test_7"
   ]
  },
  {
   "cell_type": "code",
   "execution_count": 168,
   "id": "9a16c2d2",
   "metadata": {},
   "outputs": [
    {
     "data": {
      "text/plain": [
       "1.0"
      ]
     },
     "execution_count": 168,
     "metadata": {},
     "output_type": "execute_result"
    }
   ],
   "source": [
    "Precision_score_train_7 = precision_score(Y_train,Y_pred_train).round(3)\n",
    "Precision_score_train_7"
   ]
  },
  {
   "cell_type": "code",
   "execution_count": 169,
   "id": "9b879236",
   "metadata": {},
   "outputs": [
    {
     "data": {
      "text/plain": [
       "1.0"
      ]
     },
     "execution_count": 169,
     "metadata": {},
     "output_type": "execute_result"
    }
   ],
   "source": [
    "Precision_score_test_7 = precision_score(Y_test,Y_pred_test).round(3)\n",
    "Precision_score_test_7"
   ]
  },
  {
   "cell_type": "code",
   "execution_count": 170,
   "id": "2ef2be82",
   "metadata": {},
   "outputs": [
    {
     "data": {
      "text/plain": [
       "1.0"
      ]
     },
     "execution_count": 170,
     "metadata": {},
     "output_type": "execute_result"
    }
   ],
   "source": [
    "F1_score_train_7 = f1_score(Y_train,Y_pred_train).round(3)\n",
    "F1_score_train_7"
   ]
  },
  {
   "cell_type": "code",
   "execution_count": 171,
   "id": "131b5b36",
   "metadata": {},
   "outputs": [
    {
     "data": {
      "text/plain": [
       "1.0"
      ]
     },
     "execution_count": 171,
     "metadata": {},
     "output_type": "execute_result"
    }
   ],
   "source": [
    "F1_score_test_7 = f1_score(Y_test,Y_pred_test).round(3)\n",
    "F1_score_test_7"
   ]
  },
  {
   "cell_type": "code",
   "execution_count": null,
   "id": "be230f3a",
   "metadata": {},
   "outputs": [],
   "source": []
  },
  {
   "cell_type": "markdown",
   "id": "3a44240e",
   "metadata": {},
   "source": [
    "# BAGGING CLASSIFIER"
   ]
  },
  {
   "cell_type": "code",
   "execution_count": 172,
   "id": "ab566d57",
   "metadata": {},
   "outputs": [],
   "source": [
    "from sklearn.ensemble import BaggingClassifier\n",
    "\n",
    "DT = DecisionTreeClassifier(max_depth=6)\n",
    "\n",
    "\n",
    "BAG = BaggingClassifier(base_estimator=DT, n_estimators=100,max_samples= 0.6)\n",
    "\n",
    "\n",
    "BAG.fit(X , Y)\n",
    "\n",
    "Y_pred_train = BAG.predict(X_train)\n",
    "\n",
    "Y_pred_test = BAG.predict(X_test)\n"
   ]
  },
  {
   "cell_type": "code",
   "execution_count": 173,
   "id": "8fecd391",
   "metadata": {},
   "outputs": [],
   "source": [
    "from sklearn.metrics import confusion_matrix\n",
    "train_cm8 = confusion_matrix(Y_train,Y_pred_train)\n",
    "test_cm8 = confusion_matrix(Y_test,Y_pred_test)"
   ]
  },
  {
   "cell_type": "code",
   "execution_count": 174,
   "id": "577d3cf8",
   "metadata": {},
   "outputs": [
    {
     "data": {
      "text/plain": [
       "array([[ 85,   0],\n",
       "       [  0, 102]], dtype=int64)"
      ]
     },
     "execution_count": 174,
     "metadata": {},
     "output_type": "execute_result"
    }
   ],
   "source": [
    "train_cm8"
   ]
  },
  {
   "cell_type": "code",
   "execution_count": 175,
   "id": "24060426",
   "metadata": {},
   "outputs": [
    {
     "data": {
      "text/plain": [
       "array([[22,  0],\n",
       "       [ 0, 41]], dtype=int64)"
      ]
     },
     "execution_count": 175,
     "metadata": {},
     "output_type": "execute_result"
    }
   ],
   "source": [
    "test_cm8"
   ]
  },
  {
   "cell_type": "code",
   "execution_count": 176,
   "id": "b05f6361",
   "metadata": {},
   "outputs": [
    {
     "data": {
      "text/plain": [
       "1.0"
      ]
     },
     "execution_count": 176,
     "metadata": {},
     "output_type": "execute_result"
    }
   ],
   "source": [
    "Accuracy_score_train_8 = accuracy_score(Y_train,Y_pred_train).round(3)\n",
    "Accuracy_score_train_8"
   ]
  },
  {
   "cell_type": "code",
   "execution_count": 177,
   "id": "841f2c4a",
   "metadata": {},
   "outputs": [
    {
     "data": {
      "text/plain": [
       "1.0"
      ]
     },
     "execution_count": 177,
     "metadata": {},
     "output_type": "execute_result"
    }
   ],
   "source": [
    "Accuracy_score_test_8 = accuracy_score(Y_test,Y_pred_test).round(3)\n",
    "Accuracy_score_test_8"
   ]
  },
  {
   "cell_type": "code",
   "execution_count": 178,
   "id": "194ae876",
   "metadata": {},
   "outputs": [
    {
     "data": {
      "text/plain": [
       "1.0"
      ]
     },
     "execution_count": 178,
     "metadata": {},
     "output_type": "execute_result"
    }
   ],
   "source": [
    "Sensitivity_score_train_8 = recall_score(Y_train,Y_pred_train).round(3)\n",
    "Sensitivity_score_train_8"
   ]
  },
  {
   "cell_type": "code",
   "execution_count": 179,
   "id": "4fee8457",
   "metadata": {},
   "outputs": [
    {
     "data": {
      "text/plain": [
       "1.0"
      ]
     },
     "execution_count": 179,
     "metadata": {},
     "output_type": "execute_result"
    }
   ],
   "source": [
    "Sensitivity_score_test_8 = recall_score(Y_test,Y_pred_test).round(3)\n",
    "Sensitivity_score_test_8"
   ]
  },
  {
   "cell_type": "code",
   "execution_count": 180,
   "id": "d05852a3",
   "metadata": {},
   "outputs": [
    {
     "data": {
      "text/plain": [
       "1.0"
      ]
     },
     "execution_count": 180,
     "metadata": {},
     "output_type": "execute_result"
    }
   ],
   "source": [
    "Precision_score_train_8 = precision_score(Y_train,Y_pred_train).round(3)\n",
    "Precision_score_train_8"
   ]
  },
  {
   "cell_type": "code",
   "execution_count": 181,
   "id": "f11e9efa",
   "metadata": {},
   "outputs": [
    {
     "data": {
      "text/plain": [
       "1.0"
      ]
     },
     "execution_count": 181,
     "metadata": {},
     "output_type": "execute_result"
    }
   ],
   "source": [
    "Precision_score_test_8 = precision_score(Y_test,Y_pred_test).round(3)\n",
    "Precision_score_test_8"
   ]
  },
  {
   "cell_type": "code",
   "execution_count": 182,
   "id": "4afda5b3",
   "metadata": {},
   "outputs": [
    {
     "data": {
      "text/plain": [
       "1.0"
      ]
     },
     "execution_count": 182,
     "metadata": {},
     "output_type": "execute_result"
    }
   ],
   "source": [
    "F1_score_train_8 = f1_score(Y_train,Y_pred_train).round(3)\n",
    "F1_score_train_8"
   ]
  },
  {
   "cell_type": "code",
   "execution_count": 183,
   "id": "0b153fbc",
   "metadata": {},
   "outputs": [
    {
     "data": {
      "text/plain": [
       "1.0"
      ]
     },
     "execution_count": 183,
     "metadata": {},
     "output_type": "execute_result"
    }
   ],
   "source": [
    "F1_score_test_8 = f1_score(Y_test,Y_pred_test).round(3)\n",
    "F1_score_test_8"
   ]
  },
  {
   "cell_type": "markdown",
   "id": "5adbc3d0",
   "metadata": {},
   "source": [
    "# RANDOM FOREST CLASSIFIER"
   ]
  },
  {
   "cell_type": "code",
   "execution_count": 184,
   "id": "4c435102",
   "metadata": {},
   "outputs": [],
   "source": [
    "from sklearn.ensemble import RandomForestClassifier\n",
    "\n",
    "#DT = DecisionTreeClassifier(max_depth=6)\n",
    "\n",
    "\n",
    "RFC = RandomForestClassifier( n_estimators=100,max_samples= 0.6)\n",
    "\n",
    "\n",
    "RFC.fit(X , Y)\n",
    "\n",
    "Y_pred_train = RFC.predict(X_train)\n",
    "\n",
    "Y_pred_test = RFC.predict(X_test)\n"
   ]
  },
  {
   "cell_type": "code",
   "execution_count": 185,
   "id": "429be46d",
   "metadata": {},
   "outputs": [],
   "source": [
    "from sklearn.metrics import confusion_matrix\n",
    "train_cm9 = confusion_matrix(Y_train,Y_pred_train)\n",
    "test_cm9 = confusion_matrix(Y_test,Y_pred_test)"
   ]
  },
  {
   "cell_type": "code",
   "execution_count": 186,
   "id": "4d9d5b07",
   "metadata": {},
   "outputs": [
    {
     "data": {
      "text/plain": [
       "array([[ 85,   0],\n",
       "       [  0, 102]], dtype=int64)"
      ]
     },
     "execution_count": 186,
     "metadata": {},
     "output_type": "execute_result"
    }
   ],
   "source": [
    "train_cm9"
   ]
  },
  {
   "cell_type": "code",
   "execution_count": 187,
   "id": "537325d8",
   "metadata": {},
   "outputs": [
    {
     "data": {
      "text/plain": [
       "array([[22,  0],\n",
       "       [ 0, 41]], dtype=int64)"
      ]
     },
     "execution_count": 187,
     "metadata": {},
     "output_type": "execute_result"
    }
   ],
   "source": [
    "test_cm9"
   ]
  },
  {
   "cell_type": "code",
   "execution_count": 188,
   "id": "95086b5c",
   "metadata": {},
   "outputs": [
    {
     "data": {
      "text/plain": [
       "1.0"
      ]
     },
     "execution_count": 188,
     "metadata": {},
     "output_type": "execute_result"
    }
   ],
   "source": [
    "Accuracy_score_train_9 = accuracy_score(Y_train,Y_pred_train).round(3)\n",
    "Accuracy_score_train_9"
   ]
  },
  {
   "cell_type": "code",
   "execution_count": 189,
   "id": "0a239247",
   "metadata": {},
   "outputs": [
    {
     "data": {
      "text/plain": [
       "1.0"
      ]
     },
     "execution_count": 189,
     "metadata": {},
     "output_type": "execute_result"
    }
   ],
   "source": [
    "Accuracy_score_test_9 = accuracy_score(Y_test,Y_pred_test).round(3)\n",
    "Accuracy_score_test_9"
   ]
  },
  {
   "cell_type": "code",
   "execution_count": 190,
   "id": "c5b8b791",
   "metadata": {},
   "outputs": [
    {
     "data": {
      "text/plain": [
       "1.0"
      ]
     },
     "execution_count": 190,
     "metadata": {},
     "output_type": "execute_result"
    }
   ],
   "source": [
    "Sensitivity_score_train_9 = recall_score(Y_train,Y_pred_train).round(3)\n",
    "Sensitivity_score_train_9"
   ]
  },
  {
   "cell_type": "code",
   "execution_count": 191,
   "id": "3f46a9e6",
   "metadata": {},
   "outputs": [
    {
     "data": {
      "text/plain": [
       "1.0"
      ]
     },
     "execution_count": 191,
     "metadata": {},
     "output_type": "execute_result"
    }
   ],
   "source": [
    "Sensitivity_score_test_9 = recall_score(Y_test,Y_pred_test).round(3)\n",
    "Sensitivity_score_test_9"
   ]
  },
  {
   "cell_type": "code",
   "execution_count": 192,
   "id": "a82979df",
   "metadata": {},
   "outputs": [
    {
     "data": {
      "text/plain": [
       "1.0"
      ]
     },
     "execution_count": 192,
     "metadata": {},
     "output_type": "execute_result"
    }
   ],
   "source": [
    "Precision_score_train_9 = precision_score(Y_train,Y_pred_train).round(3)\n",
    "Precision_score_train_9"
   ]
  },
  {
   "cell_type": "code",
   "execution_count": 193,
   "id": "242321a2",
   "metadata": {},
   "outputs": [
    {
     "data": {
      "text/plain": [
       "1.0"
      ]
     },
     "execution_count": 193,
     "metadata": {},
     "output_type": "execute_result"
    }
   ],
   "source": [
    "Precision_score_test_9 = precision_score(Y_test,Y_pred_test).round(3)\n",
    "Precision_score_test_9"
   ]
  },
  {
   "cell_type": "code",
   "execution_count": 194,
   "id": "7626988e",
   "metadata": {},
   "outputs": [
    {
     "data": {
      "text/plain": [
       "1.0"
      ]
     },
     "execution_count": 194,
     "metadata": {},
     "output_type": "execute_result"
    }
   ],
   "source": [
    "F1_score_train_9 = f1_score(Y_train,Y_pred_train).round(3)\n",
    "F1_score_train_9"
   ]
  },
  {
   "cell_type": "code",
   "execution_count": 195,
   "id": "39fb4d40",
   "metadata": {},
   "outputs": [
    {
     "data": {
      "text/plain": [
       "1.0"
      ]
     },
     "execution_count": 195,
     "metadata": {},
     "output_type": "execute_result"
    }
   ],
   "source": [
    "F1_score_test_9 = f1_score(Y_test,Y_pred_test).round(3)\n",
    "F1_score_test_9"
   ]
  },
  {
   "cell_type": "code",
   "execution_count": null,
   "id": "e7d40bea",
   "metadata": {},
   "outputs": [],
   "source": []
  },
  {
   "cell_type": "markdown",
   "id": "a64e1d5c",
   "metadata": {},
   "source": [
    "# GRADIENT BOOSTING CLASSIFIER"
   ]
  },
  {
   "cell_type": "code",
   "execution_count": 196,
   "id": "e9efde89",
   "metadata": {},
   "outputs": [],
   "source": [
    "from sklearn.ensemble import GradientBoostingClassifier\n",
    "\n",
    "#DT = DecisionTreeClassifier(max_depth=6)\n",
    "\n",
    "\n",
    "GBC = GradientBoostingClassifier( n_estimators=100,learning_rate=0.1)\n",
    "\n",
    "\n",
    "GBC.fit(X , Y)\n",
    "\n",
    "Y_pred_train = GBC.predict(X_train)\n",
    "\n",
    "Y_pred_test = GBC.predict(X_test)\n"
   ]
  },
  {
   "cell_type": "code",
   "execution_count": 197,
   "id": "b64b2f9a",
   "metadata": {},
   "outputs": [],
   "source": [
    "from sklearn.metrics import confusion_matrix\n",
    "train_cm10 = confusion_matrix(Y_train,Y_pred_train)\n",
    "test_cm10 = confusion_matrix(Y_test,Y_pred_test)"
   ]
  },
  {
   "cell_type": "code",
   "execution_count": 198,
   "id": "cf93024d",
   "metadata": {},
   "outputs": [
    {
     "data": {
      "text/plain": [
       "array([[ 85,   0],\n",
       "       [  0, 102]], dtype=int64)"
      ]
     },
     "execution_count": 198,
     "metadata": {},
     "output_type": "execute_result"
    }
   ],
   "source": [
    "train_cm10"
   ]
  },
  {
   "cell_type": "code",
   "execution_count": 199,
   "id": "bacfa9b8",
   "metadata": {},
   "outputs": [
    {
     "data": {
      "text/plain": [
       "array([[22,  0],\n",
       "       [ 0, 41]], dtype=int64)"
      ]
     },
     "execution_count": 199,
     "metadata": {},
     "output_type": "execute_result"
    }
   ],
   "source": [
    "test_cm10"
   ]
  },
  {
   "cell_type": "code",
   "execution_count": 200,
   "id": "ccb1c29d",
   "metadata": {},
   "outputs": [
    {
     "data": {
      "text/plain": [
       "1.0"
      ]
     },
     "execution_count": 200,
     "metadata": {},
     "output_type": "execute_result"
    }
   ],
   "source": [
    "Accuracy_score_train_10 = accuracy_score(Y_train,Y_pred_train).round(3)\n",
    "Accuracy_score_train_10"
   ]
  },
  {
   "cell_type": "code",
   "execution_count": 201,
   "id": "08368589",
   "metadata": {},
   "outputs": [
    {
     "data": {
      "text/plain": [
       "1.0"
      ]
     },
     "execution_count": 201,
     "metadata": {},
     "output_type": "execute_result"
    }
   ],
   "source": [
    "Accuracy_score_test_10 = accuracy_score(Y_test,Y_pred_test).round(3)\n",
    "Accuracy_score_test_10"
   ]
  },
  {
   "cell_type": "code",
   "execution_count": 202,
   "id": "e3102261",
   "metadata": {},
   "outputs": [
    {
     "data": {
      "text/plain": [
       "1.0"
      ]
     },
     "execution_count": 202,
     "metadata": {},
     "output_type": "execute_result"
    }
   ],
   "source": [
    "Sensitivity_score_train_10 = recall_score(Y_train,Y_pred_train).round(3)\n",
    "Sensitivity_score_train_10"
   ]
  },
  {
   "cell_type": "code",
   "execution_count": 203,
   "id": "3d920667",
   "metadata": {},
   "outputs": [
    {
     "data": {
      "text/plain": [
       "1.0"
      ]
     },
     "execution_count": 203,
     "metadata": {},
     "output_type": "execute_result"
    }
   ],
   "source": [
    "Sensitivity_score_test_10 = recall_score(Y_test,Y_pred_test).round(3)\n",
    "Sensitivity_score_test_10"
   ]
  },
  {
   "cell_type": "code",
   "execution_count": 204,
   "id": "a44e8c26",
   "metadata": {},
   "outputs": [
    {
     "data": {
      "text/plain": [
       "1.0"
      ]
     },
     "execution_count": 204,
     "metadata": {},
     "output_type": "execute_result"
    }
   ],
   "source": [
    "Precision_score_train_10 = precision_score(Y_train,Y_pred_train).round(3)\n",
    "Precision_score_train_10"
   ]
  },
  {
   "cell_type": "code",
   "execution_count": 205,
   "id": "68aa1bcf",
   "metadata": {},
   "outputs": [
    {
     "data": {
      "text/plain": [
       "1.0"
      ]
     },
     "execution_count": 205,
     "metadata": {},
     "output_type": "execute_result"
    }
   ],
   "source": [
    "Precision_score_test_10 = precision_score(Y_test,Y_pred_test).round(3)\n",
    "Precision_score_test_10"
   ]
  },
  {
   "cell_type": "code",
   "execution_count": 206,
   "id": "a14a7c93",
   "metadata": {},
   "outputs": [
    {
     "data": {
      "text/plain": [
       "1.0"
      ]
     },
     "execution_count": 206,
     "metadata": {},
     "output_type": "execute_result"
    }
   ],
   "source": [
    "F1_score_train_10 = f1_score(Y_train,Y_pred_train).round(3)\n",
    "F1_score_train_10"
   ]
  },
  {
   "cell_type": "code",
   "execution_count": 207,
   "id": "427dac36",
   "metadata": {},
   "outputs": [
    {
     "data": {
      "text/plain": [
       "1.0"
      ]
     },
     "execution_count": 207,
     "metadata": {},
     "output_type": "execute_result"
    }
   ],
   "source": [
    "F1_score_test_10 = f1_score(Y_test,Y_pred_test).round(3)\n",
    "F1_score_test_10"
   ]
  },
  {
   "cell_type": "code",
   "execution_count": null,
   "id": "dbd0d58a",
   "metadata": {},
   "outputs": [],
   "source": []
  },
  {
   "cell_type": "markdown",
   "id": "5f47ca56",
   "metadata": {},
   "source": [
    "# ADA BOOST CLASSIFIER"
   ]
  },
  {
   "cell_type": "code",
   "execution_count": 208,
   "id": "64946518",
   "metadata": {},
   "outputs": [],
   "source": [
    "from sklearn.ensemble import AdaBoostClassifier\n",
    "\n",
    "DT = DecisionTreeClassifier(max_depth=6)\n",
    "\n",
    "\n",
    "RFC = AdaBoostClassifier(n_estimators=100,base_estimator = DT,learning_rate=1.0)\n",
    "\n",
    "\n",
    "RFC.fit(X , Y)\n",
    "\n",
    "Y_pred_train = RFC.predict(X_train)\n",
    "\n",
    "Y_pred_test = RFC.predict(X_test)\n"
   ]
  },
  {
   "cell_type": "code",
   "execution_count": 209,
   "id": "df1a3f20",
   "metadata": {},
   "outputs": [],
   "source": [
    "from sklearn.metrics import confusion_matrix\n",
    "train_cm11 = confusion_matrix(Y_train,Y_pred_train)\n",
    "test_cm11 = confusion_matrix(Y_test,Y_pred_test)"
   ]
  },
  {
   "cell_type": "code",
   "execution_count": 210,
   "id": "64aabd75",
   "metadata": {},
   "outputs": [
    {
     "data": {
      "text/plain": [
       "array([[ 85,   0],\n",
       "       [  0, 102]], dtype=int64)"
      ]
     },
     "execution_count": 210,
     "metadata": {},
     "output_type": "execute_result"
    }
   ],
   "source": [
    "train_cm11"
   ]
  },
  {
   "cell_type": "code",
   "execution_count": 211,
   "id": "6c0f8dfc",
   "metadata": {},
   "outputs": [
    {
     "data": {
      "text/plain": [
       "array([[22,  0],\n",
       "       [ 0, 41]], dtype=int64)"
      ]
     },
     "execution_count": 211,
     "metadata": {},
     "output_type": "execute_result"
    }
   ],
   "source": [
    "test_cm11"
   ]
  },
  {
   "cell_type": "code",
   "execution_count": 212,
   "id": "c8f84e85",
   "metadata": {},
   "outputs": [
    {
     "data": {
      "text/plain": [
       "1.0"
      ]
     },
     "execution_count": 212,
     "metadata": {},
     "output_type": "execute_result"
    }
   ],
   "source": [
    "Accuracy_score_train_11 = accuracy_score(Y_train,Y_pred_train).round(3)\n",
    "Accuracy_score_train_11"
   ]
  },
  {
   "cell_type": "code",
   "execution_count": 213,
   "id": "f68e7315",
   "metadata": {},
   "outputs": [
    {
     "data": {
      "text/plain": [
       "1.0"
      ]
     },
     "execution_count": 213,
     "metadata": {},
     "output_type": "execute_result"
    }
   ],
   "source": [
    "Accuracy_score_test_11 = accuracy_score(Y_test,Y_pred_test).round(3)\n",
    "Accuracy_score_test_11"
   ]
  },
  {
   "cell_type": "code",
   "execution_count": 214,
   "id": "fa60896f",
   "metadata": {},
   "outputs": [
    {
     "data": {
      "text/plain": [
       "1.0"
      ]
     },
     "execution_count": 214,
     "metadata": {},
     "output_type": "execute_result"
    }
   ],
   "source": [
    "Sensitivity_score_train_11 = recall_score(Y_train,Y_pred_train).round(3)\n",
    "Sensitivity_score_train_11"
   ]
  },
  {
   "cell_type": "code",
   "execution_count": 215,
   "id": "79b0b8d2",
   "metadata": {},
   "outputs": [
    {
     "data": {
      "text/plain": [
       "1.0"
      ]
     },
     "execution_count": 215,
     "metadata": {},
     "output_type": "execute_result"
    }
   ],
   "source": [
    "Sensitivity_score_test_11 = recall_score(Y_test,Y_pred_test).round(3)\n",
    "Sensitivity_score_test_11"
   ]
  },
  {
   "cell_type": "code",
   "execution_count": 216,
   "id": "a15799af",
   "metadata": {},
   "outputs": [
    {
     "data": {
      "text/plain": [
       "1.0"
      ]
     },
     "execution_count": 216,
     "metadata": {},
     "output_type": "execute_result"
    }
   ],
   "source": [
    "Precision_score_train_11 = precision_score(Y_train,Y_pred_train).round(3)\n",
    "Precision_score_train_11"
   ]
  },
  {
   "cell_type": "code",
   "execution_count": 217,
   "id": "a57f6f5a",
   "metadata": {},
   "outputs": [
    {
     "data": {
      "text/plain": [
       "1.0"
      ]
     },
     "execution_count": 217,
     "metadata": {},
     "output_type": "execute_result"
    }
   ],
   "source": [
    "Precision_score_test_11 = precision_score(Y_test,Y_pred_test).round(3)\n",
    "Precision_score_test_11"
   ]
  },
  {
   "cell_type": "code",
   "execution_count": 218,
   "id": "7fd6683b",
   "metadata": {},
   "outputs": [
    {
     "data": {
      "text/plain": [
       "1.0"
      ]
     },
     "execution_count": 218,
     "metadata": {},
     "output_type": "execute_result"
    }
   ],
   "source": [
    "F1_score_train_11 = f1_score(Y_train,Y_pred_train).round(3)\n",
    "F1_score_train_11"
   ]
  },
  {
   "cell_type": "code",
   "execution_count": 219,
   "id": "42c7a4b7",
   "metadata": {},
   "outputs": [
    {
     "data": {
      "text/plain": [
       "1.0"
      ]
     },
     "execution_count": 219,
     "metadata": {},
     "output_type": "execute_result"
    }
   ],
   "source": [
    "F1_score_test_11 = f1_score(Y_test,Y_pred_test).round(3)\n",
    "F1_score_test_11"
   ]
  },
  {
   "cell_type": "markdown",
   "id": "73bb5726",
   "metadata": {},
   "source": [
    "# Extreme Gradient Boosting"
   ]
  },
  {
   "cell_type": "code",
   "execution_count": 220,
   "id": "f1d3c04a",
   "metadata": {},
   "outputs": [],
   "source": [
    "from xgboost import XGBClassifier\n",
    "\n",
    "\n",
    "from xgboost import XGBClassifier\n",
    "\n",
    "\n",
    "XGB = XGBClassifier(n_estimators=100,learning_rate=1.0)\n",
    "\n",
    "\n",
    "XGB.fit(X , Y)\n",
    "\n",
    "Y_pred_train = XGB.predict(X_train)\n",
    "\n",
    "Y_pred_test = XGB.predict(X_test)\n"
   ]
  },
  {
   "cell_type": "code",
   "execution_count": 221,
   "id": "9a87a101",
   "metadata": {},
   "outputs": [],
   "source": [
    "from sklearn.metrics import confusion_matrix\n",
    "train_cm12 = confusion_matrix(Y_train,Y_pred_train)\n",
    "test_cm12 = confusion_matrix(Y_test,Y_pred_test)"
   ]
  },
  {
   "cell_type": "code",
   "execution_count": 222,
   "id": "b50c3b0f",
   "metadata": {},
   "outputs": [
    {
     "data": {
      "text/plain": [
       "array([[ 85,   0],\n",
       "       [  0, 102]], dtype=int64)"
      ]
     },
     "execution_count": 222,
     "metadata": {},
     "output_type": "execute_result"
    }
   ],
   "source": [
    "train_cm12"
   ]
  },
  {
   "cell_type": "code",
   "execution_count": 223,
   "id": "521b75c7",
   "metadata": {},
   "outputs": [
    {
     "data": {
      "text/plain": [
       "array([[22,  0],\n",
       "       [ 0, 41]], dtype=int64)"
      ]
     },
     "execution_count": 223,
     "metadata": {},
     "output_type": "execute_result"
    }
   ],
   "source": [
    "test_cm12"
   ]
  },
  {
   "cell_type": "code",
   "execution_count": 224,
   "id": "6bad8bac",
   "metadata": {},
   "outputs": [
    {
     "data": {
      "text/plain": [
       "1.0"
      ]
     },
     "execution_count": 224,
     "metadata": {},
     "output_type": "execute_result"
    }
   ],
   "source": [
    "Accuracy_score_train_12 = accuracy_score(Y_train,Y_pred_train).round(3)\n",
    "Accuracy_score_train_12"
   ]
  },
  {
   "cell_type": "code",
   "execution_count": 225,
   "id": "ff388638",
   "metadata": {},
   "outputs": [
    {
     "data": {
      "text/plain": [
       "1.0"
      ]
     },
     "execution_count": 225,
     "metadata": {},
     "output_type": "execute_result"
    }
   ],
   "source": [
    "Accuracy_score_test_12 = accuracy_score(Y_test,Y_pred_test).round(3)\n",
    "Accuracy_score_test_12"
   ]
  },
  {
   "cell_type": "code",
   "execution_count": 226,
   "id": "0e128a17",
   "metadata": {},
   "outputs": [
    {
     "data": {
      "text/plain": [
       "1.0"
      ]
     },
     "execution_count": 226,
     "metadata": {},
     "output_type": "execute_result"
    }
   ],
   "source": [
    "Sensitivity_score_train_12 = recall_score(Y_train,Y_pred_train).round(3)\n",
    "Sensitivity_score_train_12"
   ]
  },
  {
   "cell_type": "code",
   "execution_count": 227,
   "id": "aeaf736f",
   "metadata": {},
   "outputs": [
    {
     "data": {
      "text/plain": [
       "1.0"
      ]
     },
     "execution_count": 227,
     "metadata": {},
     "output_type": "execute_result"
    }
   ],
   "source": [
    "Sensitivity_score_test_12 = recall_score(Y_test,Y_pred_test).round(3)\n",
    "Sensitivity_score_test_12"
   ]
  },
  {
   "cell_type": "code",
   "execution_count": 228,
   "id": "dc11787a",
   "metadata": {},
   "outputs": [
    {
     "data": {
      "text/plain": [
       "1.0"
      ]
     },
     "execution_count": 228,
     "metadata": {},
     "output_type": "execute_result"
    }
   ],
   "source": [
    "Precision_score_train_12 = precision_score(Y_train,Y_pred_train).round(3)\n",
    "Precision_score_train_12"
   ]
  },
  {
   "cell_type": "code",
   "execution_count": 229,
   "id": "f2c8c29c",
   "metadata": {},
   "outputs": [
    {
     "data": {
      "text/plain": [
       "1.0"
      ]
     },
     "execution_count": 229,
     "metadata": {},
     "output_type": "execute_result"
    }
   ],
   "source": [
    "Precision_score_test_12 = precision_score(Y_test,Y_pred_test).round(3)\n",
    "Precision_score_test_12"
   ]
  },
  {
   "cell_type": "code",
   "execution_count": 230,
   "id": "8bccf953",
   "metadata": {},
   "outputs": [
    {
     "data": {
      "text/plain": [
       "1.0"
      ]
     },
     "execution_count": 230,
     "metadata": {},
     "output_type": "execute_result"
    }
   ],
   "source": [
    "F1_score_train_12 = f1_score(Y_train,Y_pred_train).round(3)\n",
    "F1_score_train_12"
   ]
  },
  {
   "cell_type": "code",
   "execution_count": 231,
   "id": "c49253dc",
   "metadata": {},
   "outputs": [
    {
     "data": {
      "text/plain": [
       "1.0"
      ]
     },
     "execution_count": 231,
     "metadata": {},
     "output_type": "execute_result"
    }
   ],
   "source": [
    "F1_score_test_12 = f1_score(Y_test,Y_pred_test).round(3)\n",
    "F1_score_test_12"
   ]
  },
  {
   "cell_type": "markdown",
   "id": "c2fc900f",
   "metadata": {},
   "source": [
    "# ROC CURVE FOR XGBOOST TRAIN"
   ]
  },
  {
   "cell_type": "code",
   "execution_count": 232,
   "id": "4ee0a8c9",
   "metadata": {},
   "outputs": [
    {
     "data": {
      "image/png": "[encoded data removed]",
      "text/plain": [
       "<Figure size 432x288 with 1 Axes>"
      ]
     },
     "metadata": {
      "needs_background": "light"
     },
     "output_type": "display_data"
    }
   ],
   "source": [
    "from sklearn.metrics import roc_curve\n",
    "import matplotlib.pyplot as plt\n",
    "\n",
    "# assuming you have true labels Y_test and predicted probabilities Y_pred_proba_test\n",
    "fpr, tpr, thresholds = roc_curve(Y_train, Y_pred_train)\n",
    "\n",
    "plt.plot(fpr, tpr)\n",
    "plt.xlabel('False Positive Rate')\n",
    "plt.ylabel('True Positive Rate')\n",
    "plt.title('ROC Curve')\n",
    "plt.show()\n"
   ]
  },
  {
   "cell_type": "markdown",
   "id": "70a9eb6d",
   "metadata": {},
   "source": [
    "# ROC CURVE FOR XGBOOST TEST"
   ]
  },
  {
   "cell_type": "code",
   "execution_count": 233,
   "id": "84a52b9e",
   "metadata": {},
   "outputs": [
    {
     "data": {
      "image/png": "[encoded data removed]",
      "text/plain": [
       "<Figure size 432x288 with 1 Axes>"
      ]
     },
     "metadata": {
      "needs_background": "light"
     },
     "output_type": "display_data"
    }
   ],
   "source": [
    "from sklearn.metrics import roc_curve\n",
    "import matplotlib.pyplot as plt\n",
    "\n",
    "# assuming you have true labels Y_test and predicted probabilities Y_pred_proba_test\n",
    "fpr, tpr, thresholds = roc_curve(Y_test, Y_pred_test)\n",
    "\n",
    "plt.plot(fpr, tpr)\n",
    "plt.xlabel('False Positive Rate')\n",
    "plt.ylabel('True Positive Rate')\n",
    "plt.title('ROC Curve')\n",
    "plt.show()"
   ]
  },
  {
   "cell_type": "markdown",
   "id": "0d6c15f5",
   "metadata": {},
   "source": [
    "# LOG LOSS VALUE OF XGBOOST"
   ]
  },
  {
   "cell_type": "code",
   "execution_count": 234,
   "id": "406b5cdb",
   "metadata": {},
   "outputs": [
    {
     "name": "stdout",
     "output_type": "stream",
     "text": [
      "Log loss for training set: 9.992007221626413e-16\n",
      "Log loss for test set: 9.992007221626415e-16\n"
     ]
    }
   ],
   "source": [
    "from sklearn.metrics import log_loss\n",
    "\n",
    "# assuming Y_train is the true labels of the training set and Y_pred_train is the predicted probabilities of the positive class\n",
    "log_loss_train1 = log_loss(Y_train, Y_pred_train)\n",
    "\n",
    "# assuming Y_test is the true labels of the test set and Y_pred_test is the predicted probabilities of the positive class\n",
    "log_loss_test1 = log_loss(Y_test, Y_pred_test)\n",
    "\n",
    "print('Log loss for training set:', log_loss_train1)\n",
    "print('Log loss for test set:', log_loss_test1)"
   ]
  },
  {
   "cell_type": "code",
   "execution_count": 235,
   "id": "028852f3",
   "metadata": {},
   "outputs": [
    {
     "data": {
      "text/html": [
       "<div>\n",
       "<style scoped>\n",
       "    .dataframe tbody tr th:only-of-type {\n",
       "        vertical-align: middle;\n",
       "    }\n",
       "\n",
       "    .dataframe tbody tr th {\n",
       "        vertical-align: top;\n",
       "    }\n",
       "\n",
       "    .dataframe thead th {\n",
       "        text-align: right;\n",
       "    }\n",
       "</style>\n",
       "<table border=\"1\" class=\"dataframe\">\n",
       "  <thead>\n",
       "    <tr style=\"text-align: right;\">\n",
       "      <th></th>\n",
       "      <th>Classifier</th>\n",
       "      <th>Training_Accuracy</th>\n",
       "      <th>Testing_Accuracy</th>\n",
       "      <th>Precision Score train</th>\n",
       "      <th>Precision Score test</th>\n",
       "      <th>Recall Score train</th>\n",
       "      <th>Recall Score test</th>\n",
       "      <th>F1_Score train</th>\n",
       "      <th>F1_Score test</th>\n",
       "    </tr>\n",
       "  </thead>\n",
       "  <tbody>\n",
       "    <tr>\n",
       "      <th>0</th>\n",
       "      <td>Logistic Regression</td>\n",
       "      <td>0.995</td>\n",
       "      <td>1.000</td>\n",
       "      <td>0.990</td>\n",
       "      <td>1.0</td>\n",
       "      <td>1.0</td>\n",
       "      <td>1.000</td>\n",
       "      <td>0.995</td>\n",
       "      <td>1.000</td>\n",
       "    </tr>\n",
       "    <tr>\n",
       "      <th>1</th>\n",
       "      <td>K-Nearest Neighbourhood Classifier</td>\n",
       "      <td>0.984</td>\n",
       "      <td>0.984</td>\n",
       "      <td>0.990</td>\n",
       "      <td>1.0</td>\n",
       "      <td>1.0</td>\n",
       "      <td>0.976</td>\n",
       "      <td>0.995</td>\n",
       "      <td>0.988</td>\n",
       "    </tr>\n",
       "    <tr>\n",
       "      <th>2</th>\n",
       "      <td>Naive-Bayes Classifier</td>\n",
       "      <td>0.973</td>\n",
       "      <td>1.000</td>\n",
       "      <td>0.953</td>\n",
       "      <td>1.0</td>\n",
       "      <td>1.0</td>\n",
       "      <td>1.000</td>\n",
       "      <td>0.976</td>\n",
       "      <td>1.000</td>\n",
       "    </tr>\n",
       "    <tr>\n",
       "      <th>3</th>\n",
       "      <td>SVM Classifier_non_Linear</td>\n",
       "      <td>1.000</td>\n",
       "      <td>0.984</td>\n",
       "      <td>1.000</td>\n",
       "      <td>1.0</td>\n",
       "      <td>1.0</td>\n",
       "      <td>0.976</td>\n",
       "      <td>1.000</td>\n",
       "      <td>0.988</td>\n",
       "    </tr>\n",
       "    <tr>\n",
       "      <th>4</th>\n",
       "      <td>SVM Classifier_Linear</td>\n",
       "      <td>1.000</td>\n",
       "      <td>0.984</td>\n",
       "      <td>1.000</td>\n",
       "      <td>1.0</td>\n",
       "      <td>1.0</td>\n",
       "      <td>0.976</td>\n",
       "      <td>1.000</td>\n",
       "      <td>0.988</td>\n",
       "    </tr>\n",
       "    <tr>\n",
       "      <th>5</th>\n",
       "      <td>Decision Tree Classifier_gini</td>\n",
       "      <td>1.000</td>\n",
       "      <td>1.000</td>\n",
       "      <td>1.000</td>\n",
       "      <td>1.0</td>\n",
       "      <td>1.0</td>\n",
       "      <td>1.000</td>\n",
       "      <td>1.000</td>\n",
       "      <td>1.000</td>\n",
       "    </tr>\n",
       "    <tr>\n",
       "      <th>6</th>\n",
       "      <td>Decision Tree Classifier_entropy</td>\n",
       "      <td>1.000</td>\n",
       "      <td>1.000</td>\n",
       "      <td>1.000</td>\n",
       "      <td>1.0</td>\n",
       "      <td>1.0</td>\n",
       "      <td>1.000</td>\n",
       "      <td>1.000</td>\n",
       "      <td>1.000</td>\n",
       "    </tr>\n",
       "    <tr>\n",
       "      <th>7</th>\n",
       "      <td>BaggingClassifier</td>\n",
       "      <td>1.000</td>\n",
       "      <td>1.000</td>\n",
       "      <td>1.000</td>\n",
       "      <td>1.0</td>\n",
       "      <td>1.0</td>\n",
       "      <td>1.000</td>\n",
       "      <td>1.000</td>\n",
       "      <td>1.000</td>\n",
       "    </tr>\n",
       "    <tr>\n",
       "      <th>8</th>\n",
       "      <td>Random Forest Classifier</td>\n",
       "      <td>1.000</td>\n",
       "      <td>1.000</td>\n",
       "      <td>1.000</td>\n",
       "      <td>1.0</td>\n",
       "      <td>1.0</td>\n",
       "      <td>1.000</td>\n",
       "      <td>1.000</td>\n",
       "      <td>1.000</td>\n",
       "    </tr>\n",
       "    <tr>\n",
       "      <th>9</th>\n",
       "      <td>Gradient Boosting Classifier</td>\n",
       "      <td>1.000</td>\n",
       "      <td>1.000</td>\n",
       "      <td>1.000</td>\n",
       "      <td>1.0</td>\n",
       "      <td>1.0</td>\n",
       "      <td>1.000</td>\n",
       "      <td>1.000</td>\n",
       "      <td>1.000</td>\n",
       "    </tr>\n",
       "    <tr>\n",
       "      <th>10</th>\n",
       "      <td>AdaBoost Classifier</td>\n",
       "      <td>1.000</td>\n",
       "      <td>1.000</td>\n",
       "      <td>1.000</td>\n",
       "      <td>1.0</td>\n",
       "      <td>1.0</td>\n",
       "      <td>1.000</td>\n",
       "      <td>1.000</td>\n",
       "      <td>1.000</td>\n",
       "    </tr>\n",
       "    <tr>\n",
       "      <th>11</th>\n",
       "      <td>Xtreme Gradient Boosting Classifier</td>\n",
       "      <td>1.000</td>\n",
       "      <td>1.000</td>\n",
       "      <td>1.000</td>\n",
       "      <td>1.0</td>\n",
       "      <td>1.0</td>\n",
       "      <td>1.000</td>\n",
       "      <td>1.000</td>\n",
       "      <td>1.000</td>\n",
       "    </tr>\n",
       "  </tbody>\n",
       "</table>\n",
       "</div>"
      ],
      "text/plain": [
       "                             Classifier  Training_Accuracy  Testing_Accuracy  \\\n",
       "0                   Logistic Regression              0.995             1.000   \n",
       "1    K-Nearest Neighbourhood Classifier              0.984             0.984   \n",
       "2                Naive-Bayes Classifier              0.973             1.000   \n",
       "3             SVM Classifier_non_Linear              1.000             0.984   \n",
       "4                 SVM Classifier_Linear              1.000             0.984   \n",
       "5         Decision Tree Classifier_gini              1.000             1.000   \n",
       "6      Decision Tree Classifier_entropy              1.000             1.000   \n",
       "7                     BaggingClassifier              1.000             1.000   \n",
       "8              Random Forest Classifier              1.000             1.000   \n",
       "9          Gradient Boosting Classifier              1.000             1.000   \n",
       "10                  AdaBoost Classifier              1.000             1.000   \n",
       "11  Xtreme Gradient Boosting Classifier              1.000             1.000   \n",
       "\n",
       "    Precision Score train  Precision Score test  Recall Score train  \\\n",
       "0                   0.990                   1.0                 1.0   \n",
       "1                   0.990                   1.0                 1.0   \n",
       "2                   0.953                   1.0                 1.0   \n",
       "3                   1.000                   1.0                 1.0   \n",
       "4                   1.000                   1.0                 1.0   \n",
       "5                   1.000                   1.0                 1.0   \n",
       "6                   1.000                   1.0                 1.0   \n",
       "7                   1.000                   1.0                 1.0   \n",
       "8                   1.000                   1.0                 1.0   \n",
       "9                   1.000                   1.0                 1.0   \n",
       "10                  1.000                   1.0                 1.0   \n",
       "11                  1.000                   1.0                 1.0   \n",
       "\n",
       "    Recall Score test  F1_Score train  F1_Score test  \n",
       "0               1.000           0.995          1.000  \n",
       "1               0.976           0.995          0.988  \n",
       "2               1.000           0.976          1.000  \n",
       "3               0.976           1.000          0.988  \n",
       "4               0.976           1.000          0.988  \n",
       "5               1.000           1.000          1.000  \n",
       "6               1.000           1.000          1.000  \n",
       "7               1.000           1.000          1.000  \n",
       "8               1.000           1.000          1.000  \n",
       "9               1.000           1.000          1.000  \n",
       "10              1.000           1.000          1.000  \n",
       "11              1.000           1.000          1.000  "
      ]
     },
     "execution_count": 235,
     "metadata": {},
     "output_type": "execute_result"
    }
   ],
   "source": [
    "table = {'Classifier' : ['Logistic Regression','K-Nearest Neighbourhood Classifier','Naive-Bayes Classifier','SVM Classifier_non_Linear','SVM Classifier_Linear','Decision Tree Classifier_gini','Decision Tree Classifier_entropy','BaggingClassifier','Random Forest Classifier','Gradient Boosting Classifier','AdaBoost Classifier','Xtreme Gradient Boosting Classifier'], \n",
    "         'Training_Accuracy' : [Accuracy_score_train_1, Accuracy_score_train_2, Accuracy_score_train_3, Accuracy_score_train_4, Accuracy_score_train_5, Accuracy_score_train_6, Accuracy_score_train_7, Accuracy_score_train_8, Accuracy_score_train_9,Accuracy_score_train_10,Accuracy_score_train_11,Accuracy_score_train_12], \n",
    "         'Testing_Accuracy' : [Accuracy_score_test_1,Accuracy_score_test_2, Accuracy_score_test_3,Accuracy_score_test_4,Accuracy_score_test_5,Accuracy_score_test_6, Accuracy_score_test_7, Accuracy_score_test_8, Accuracy_score_test_9,Accuracy_score_test_10,Accuracy_score_test_11,Accuracy_score_test_12], \n",
    "         'Precision Score train' : [Precision_score_train_1, Precision_score_train_2, Precision_score_train_3, Precision_score_train_4, Precision_score_train_5, Precision_score_train_6, Precision_score_train_7, Precision_score_train_8, Precision_score_train_9,Precision_score_train_10,Precision_score_train_11,Precision_score_train_12],\n",
    "         'Precision Score test' : [Precision_score_test_1, Precision_score_test_2, Precision_score_test_3, Precision_score_test_4, Precision_score_test_5, Precision_score_test_6, Precision_score_test_7, Precision_score_test_8, Precision_score_test_9,Precision_score_test_10,Precision_score_test_11,Precision_score_test_12],\n",
    "         'Recall Score train' : [Sensitivity_score_train_1, Sensitivity_score_train_2, Sensitivity_score_train_3, Sensitivity_score_train_4, Sensitivity_score_train_5, Sensitivity_score_train_6, Sensitivity_score_train_7, Sensitivity_score_train_8, Sensitivity_score_train_9,Sensitivity_score_train_10,Sensitivity_score_train_11,Sensitivity_score_train_12],\n",
    "         'Recall Score test' : [Sensitivity_score_test_1, Sensitivity_score_test_2, Sensitivity_score_test_3, Sensitivity_score_test_4, Sensitivity_score_test_5, Sensitivity_score_test_6, Sensitivity_score_test_7, Sensitivity_score_test_8, Sensitivity_score_test_9,Sensitivity_score_test_10,Sensitivity_score_test_11,Sensitivity_score_test_12],\n",
    "         'F1_Score train' : [F1_score_train_1, F1_score_train_2, F1_score_train_3, F1_score_train_4, F1_score_train_5, F1_score_train_6, F1_score_train_7, F1_score_train_8, F1_score_train_9,F1_score_train_10,F1_score_train_11,F1_score_train_12],\n",
    "        'F1_Score test' : [F1_score_test_1, F1_score_test_2, F1_score_test_3, F1_score_test_4, F1_score_test_5, F1_score_test_6, F1_score_test_7, F1_score_test_8, F1_score_test_9,F1_score_test_10,F1_score_test_11,F1_score_test_12]}\n",
    "table = pd.DataFrame(table)\n",
    "table"
   ]
  },
  {
   "cell_type": "code",
   "execution_count": null,
   "id": "fa762013",
   "metadata": {},
   "outputs": [],
   "source": []
  },
  {
   "cell_type": "code",
   "execution_count": null,
   "id": "791a93a7",
   "metadata": {},
   "outputs": [],
   "source": []
  },
  {
   "cell_type": "code",
   "execution_count": null,
   "id": "fcbb6b4a",
   "metadata": {},
   "outputs": [],
   "source": []
  },
  {
   "cell_type": "code",
   "execution_count": null,
   "id": "bc3b7850",
   "metadata": {},
   "outputs": [],
   "source": []
  }
 ],
 "metadata": {
  "kernelspec": {
   "display_name": "Python 3 (ipykernel)",
   "language": "python",
   "name": "python3"
  },
  "language_info": {
   "codemirror_mode": {
    "name": "ipython",
    "version": 3
   },
   "file_extension": ".py",
   "mimetype": "text/x-python",
   "name": "python",
   "nbconvert_exporter": "python",
   "pygments_lexer": "ipython3",
   "version": "3.9.12"
  }
 },
 "nbformat": 4,
 "nbformat_minor": 5
}
